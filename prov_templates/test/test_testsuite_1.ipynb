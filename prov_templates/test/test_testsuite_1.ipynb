{
 "cells": [
  {
   "cell_type": "markdown",
   "metadata": {},
   "source": [
    "# Generic DKRZ national archive form \n",
    "\n",
    "![form-submission](../fig/form-submission.png)\n",
    "\n",
    "This form is intended to provide a generic template for interactive forms e.g. for testing \n",
    "\n",
    "Please provide your last name in the cell below and press \"SHIFT-Return\""
   ]
  },
  {
   "cell_type": "code",
   "execution_count": null,
   "metadata": {
    "collapsed": true
   },
   "outputs": [],
   "source": [
    "MY_LAST_NAME = \"....\"   # e.gl MY_LAST_NAME = \"schulz\" \n",
    "#-------------------------------------------------\n",
    "from dkrz_forms import form_handler, form_widgets\n",
    "form_info = form_widgets.check_pwd(MY_LAST_NAME)\n",
    "sf = form_handler.init_form(form_info)\n",
    "form = sf.sub.entity_out.report"
   ]
  },
  {
   "cell_type": "markdown",
   "metadata": {},
   "source": [
    "# Edit form information"
   ]
  },
  {
   "cell_type": "code",
   "execution_count": null,
   "metadata": {
    "collapsed": true
   },
   "outputs": [],
   "source": [
    "form.myattribute = \"myinformation\"\n",
    "form.mycomment =\"..\"\n",
    "form.anything_you_like_tag = \"..\""
   ]
  },
  {
   "cell_type": "markdown",
   "metadata": {},
   "source": [
    "# Save your form\n",
    "\n",
    "your form will be stored (the form name consists of your last name plut your keyword)"
   ]
  },
  {
   "cell_type": "code",
   "execution_count": null,
   "metadata": {
    "collapsed": true
   },
   "outputs": [],
   "source": [
    "form_handler.save_form(sf,\"..my comment..\") # edit my comment info \n"
   ]
  },
  {
   "cell_type": "markdown",
   "metadata": {},
   "source": [
    "### Send an email to me to complete the form later on "
   ]
  },
  {
   "cell_type": "code",
   "execution_count": null,
   "metadata": {
    "collapsed": true
   },
   "outputs": [],
   "source": [
    "form_handler.email_form_info(sf)"
   ]
  },
  {
   "cell_type": "markdown",
   "metadata": {},
   "source": [
    "# officially submit your form\n",
    "the form will be submitted to the DKRZ team to process\n",
    "you also receive a confirmation email with a reference to your online form for future modifications "
   ]
  },
  {
   "cell_type": "code",
   "execution_count": null,
   "metadata": {
    "collapsed": true
   },
   "outputs": [],
   "source": [
    "form_handler.form_submission(sf)"
   ]
  }
 ],
 "metadata": {
  "anaconda-cloud": {},
  "kernelspec": {
   "display_name": "Python [conda env:forms2]",
   "language": "python",
   "name": "conda-env-forms2-py"
  },
  "language_info": {
   "codemirror_mode": {
    "name": "ipython",
    "version": 2
   },
   "file_extension": ".py",
   "mimetype": "text/x-python",
   "name": "python",
   "nbconvert_exporter": "python",
   "pygments_lexer": "ipython2",
   "version": "2.7.13"
  }
 },
 "nbformat": 4,
 "nbformat_minor": 1
}
