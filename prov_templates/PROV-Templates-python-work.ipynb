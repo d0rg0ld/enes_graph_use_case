{
 "cells": [
  {
   "cell_type": "markdown",
   "metadata": {},
   "source": [
    "# PROV Templates in Python\n",
    "\n",
    "     Author: Stephan Kindermann\n",
    "     Affiliation: DKRZ\n",
    "     Community: ENES (Earth System Sciences)\n",
    "     Version: 0.1 (July 2018)\n",
    "    \n",
    "**Motivation:**\n",
    "* PROV template expansion currently is only supported by the **provconvert** java tool.\n",
    "* initial generation and integration of PROV descriptions as part of ENES community efforts \n",
    "is oftenly done by adopting interactive languages like python.\n",
    "* The sharing PROV adoption narratives is well supported by using jupyter notebooks and python.\n",
    "* Core infrastructure services in ENES are implemented using python. \n",
    "* **provenvert** output can not be imported using the python prov package (only supporting PROV-json serialization format for import)\n",
    "* The java based **provconvert** tool thus is difficult to exploit in ENES use cases\n",
    "* What is needed in the short term are simple python based wrappers integrated in our\n",
    "community workflow, generating prov descriptions best on the basis of prov template instantiations.\n",
    "* The idea of using PROV templates yet is helpful, the only problem is to enable tool based generation and instantiation in an interactive setting without the requirement to use **provconvert** and do use Java for tool based template use cases. \n",
    "\n",
    "**Approach taken**\n",
    "Thus a simple approach is taken which on the one hand side allows to use PROV templates and which\n",
    "on the other hand side allows for pure python based template instantiations.\n",
    "Drawback is that the elaborated prov expansion algorithm can not be used - yet to make the expansion explicit on the basis of python can also seen as an advantage as the community PROV adopters don't need to dig into the expansion algorithm implemented as part of provconvert (and eventual errors therein).\n",
    "\n",
    "The approach taken is illustrated in the following:   \n",
    "* PROV templates (being standard PROV documents) are generated in Python based on the prov library alongside PROV template instances.\n",
    "* A very simple instantiation algorithm is used to instantiate templates based on dictionaries containing the variable settings .. this instantiation algorithm is stepwise expanded\n"
   ]
  },
  {
   "cell_type": "markdown",
   "metadata": {},
   "source": [
    "## Generate a PROV template\n",
    "PROV templates are generated in functions with all RROV variables as parameters.\n",
    "This function is called with prov template variable names to generate prov templates. When called with instances the result is an prov document corresponding to the instantiated prov template.\n",
    "\n",
    "In the following the approach is illustrated based on a concrete examplec (corresponding to the first example in the provconvert tutorial). "
   ]
  },
  {
   "cell_type": "code",
   "execution_count": 92,
   "metadata": {},
   "outputs": [],
   "source": [
    "# Define the variable parts in the template as dictionary keys\n",
    "# dictionary values are the prov template variable bindings in one case\n",
    "# and correspond to the variable instance settings in the other case\n",
    "import prov.model as prov\n",
    "template_dict = {\n",
    "    'var_author':'var:author',\n",
    "    'var_value':'var:value',\n",
    "    'var_name':'var:name',\n",
    "    'var_quote':'var:quote'\n",
    "}\n",
    "instance_dict = {\n",
    "    'var:author':'orcid:0000-0002-3494-120X',\n",
    "    'var:value':'A Little Provenance Goes a Long Way',\n",
    "    'var:name':'Luc Moreau',\n",
    "    'var:quote':'ex:quote1'\n",
    "}"
   ]
  },
  {
   "cell_type": "code",
   "execution_count": 5,
   "metadata": {},
   "outputs": [],
   "source": [
    "# test for use of default namespace\n",
    "document = prov.ProvDocument()\n",
    "document.set_default_namespace('http://example.org/0/')\n",
    "                               \n",
    "quote = document.entity('tst')                              "
   ]
  },
  {
   "cell_type": "code",
   "execution_count": 101,
   "metadata": {},
   "outputs": [],
   "source": [
    "def new_provdoc():\n",
    "    document = prov.ProvDocument()\n",
    "    # ----- namspace settings --------------------------------------------------\n",
    "    document.add_namespace('prov','http://www.w3.org/ns/prov#')\n",
    "    document.add_namespace('var','http://openprovenance.org/var#>')\n",
    "    document.add_namespace('vargen','http://openprovenance.org/vargen#')\n",
    "    document.add_namespace('tmpl','http://openprovenance.org/tmpl#')\n",
    "    document.add_namespace('foaf','http://xmlns.com/foaf/0.1/')\n",
    "    document.add_namespace('ex', 'http://example.org/')\n",
    "    document.add_namespace('orcid','http://orcid.org/')\n",
    "\n",
    "    document.set_default_namespace('http://example.org/0/')\n",
    "    #document.add_namespace('rdf','http://www.w3.org/1999/02/22-rdf-syntax-ns#')\n",
    "    #document.add_namespace('rdfs','http://www.w3.org/2000/01/rdf-schema#')\n",
    "    #document.add_namespace('xsd','http://www.w3.org/2001/XMLSchema#')\n",
    "    #document.add_namespace('ex1', 'http://example.org/1/')\n",
    "    #document.add_namespace('ex2', 'http://example.org/2/')\n",
    "    # ----------------------------------------------------------------------------\n",
    "    return document"
   ]
  },
  {
   "cell_type": "code",
   "execution_count": 73,
   "metadata": {},
   "outputs": [
    {
     "name": "stdout",
     "output_type": "stream",
     "text": [
      "document\n",
      "  prefix var <http://openprovenance.org/var#>>\n",
      "  prefix vargen <http://openprovenance.org/vargen#>\n",
      "  prefix tmpl <http://openprovenance.org/tmpl#>\n",
      "  prefix foaf <http://xmlns.com/foaf/0.1/>\n",
      "  prefix ex <http://example.org/>\n",
      "  prefix orcid <http://orcid.org/>\n",
      "  \n",
      "  bundle vargen:bundleid\n",
      "    entity(var:quote, [prov:value=\"var:value\"])\n",
      "    entity(var:author, [prov:type=\"prov:Person\", foaf:name=\"var:name\"])\n",
      "    wasAttributedTo(var:quote, var:author)\n",
      "  endBundle\n",
      "endDocument\n",
      "------\n",
      "saved in file: /home/stephan/test/xxxx.provn\n"
     ]
    }
   ],
   "source": [
    "def make_prov(var_value,var_name,var_quote,var_author): \n",
    "    # for enes data ingest use case: use information from dkrz_forms/config/workflow_steps.py\n",
    "    document = prov.ProvDocument()\n",
    "    # ----- namspace settings --------------------------------------------------\n",
    "    document.add_namespace('prov','http://www.w3.org/ns/prov#')\n",
    "    document.add_namespace('var','http://openprovenance.org/var#>')\n",
    "    document.add_namespace('vargen','http://openprovenance.org/vargen#')\n",
    "    document.add_namespace('tmpl','http://openprovenance.org/tmpl#')\n",
    "    document.add_namespace('foaf','http://xmlns.com/foaf/0.1/')\n",
    "    document.add_namespace('ex', 'http://example.org/')\n",
    "    document.add_namespace('orcid','http://orcid.org/')\n",
    "\n",
    "    #document.set_default_namespace('http://example.org/0/')\n",
    "    #document.add_namespace('rdf','http://www.w3.org/1999/02/22-rdf-syntax-ns#')\n",
    "    #document.add_namespace('rdfs','http://www.w3.org/2000/01/rdf-schema#')\n",
    "    #document.add_namespace('xsd','http://www.w3.org/2001/XMLSchema#')\n",
    "    #document.add_namespace('ex1', 'http://example.org/1/')\n",
    "    #document.add_namespace('ex2', 'http://example.org/2/')\n",
    "    # ----------------------------------------------------------------------------\n",
    "\n",
    "    bundle = document.bundle('vargen:bundleid')\n",
    "    #bundle.set_default_namespace('http://example.org/0/')\n",
    "    quote = bundle.entity(var_quote,(\n",
    "         ('prov:value',var_value),\n",
    "    ))    \n",
    "\n",
    "    author = bundle.entity(var_author,(\n",
    "        (prov.PROV_TYPE, \"prov:Person\"),\n",
    "        ('foaf:name',var_name)\n",
    "    )) \n",
    "\n",
    "    bundle.wasAttributedTo(var_quote,var_author)\n",
    "    \n",
    "    return document\n",
    "\n",
    "def save_and_show(filename):\n",
    "    doc1 = make_prov(**template_dict)\n",
    "    print(doc1.get_provn())\n",
    "\n",
    "    with open(filename, 'w') as provn_file:\n",
    "        provn_file.write(doc1.get_provn())\n",
    "    \n",
    "    print(\"------\")\n",
    "    print(\"saved in file:\",filename)\n",
    "    return doc1\n",
    "\n",
    "doc1 = save_and_show('/home/stephan/test/xxxx.provn')"
   ]
  },
  {
   "cell_type": "code",
   "execution_count": 112,
   "metadata": {},
   "outputs": [
    {
     "name": "stdout",
     "output_type": "stream",
     "text": [
      "<ProvBundle: vargen:bundleid>\n"
     ]
    }
   ],
   "source": [
    "bundles = doc1.bundles\n",
    "for k in bundles:\n",
    "    bundle = k\n",
    "    print(k) "
   ]
  },
  {
   "cell_type": "code",
   "execution_count": 117,
   "metadata": {},
   "outputs": [
    {
     "name": "stdout",
     "output_type": "stream",
     "text": [
      "'prov:type'\n",
      "prov:type\n",
      "'foaf:name'\n",
      "foaf:name\n"
     ]
    }
   ],
   "source": [
    "\n",
    "\n",
    "tst = {\"'prov:type'\": 'prov:Person', \"'foaf:name'\": 'Luc Moreau'}\n",
    "\n",
    "for key,val in tst.items():\n",
    "    print(key)\n",
    "    print(key.replace(\"'\",\"\"))"
   ]
  },
  {
   "cell_type": "code",
   "execution_count": 113,
   "metadata": {},
   "outputs": [
    {
     "data": {
      "text/plain": [
       "<QualifiedName: vargen:bundleid>"
      ]
     },
     "execution_count": 113,
     "metadata": {},
     "output_type": "execute_result"
    }
   ],
   "source": [
    "k.identifier"
   ]
  },
  {
   "cell_type": "code",
   "execution_count": 114,
   "metadata": {},
   "outputs": [
    {
     "ename": "ProvException",
     "evalue": "A bundle with that identifier already exists",
     "output_type": "error",
     "traceback": [
      "\u001b[0;31m---------------------------------------------------------------------------\u001b[0m",
      "\u001b[0;31mProvException\u001b[0m                             Traceback (most recent call last)",
      "\u001b[0;32m<ipython-input-114-9efec25fb3d5>\u001b[0m in \u001b[0;36m<module>\u001b[0;34m()\u001b[0m\n\u001b[0;32m----> 1\u001b[0;31m \u001b[0mdoc1\u001b[0m\u001b[0;34m.\u001b[0m\u001b[0mbundle\u001b[0m\u001b[0;34m(\u001b[0m\u001b[0mk\u001b[0m\u001b[0;34m.\u001b[0m\u001b[0midentifier\u001b[0m\u001b[0;34m)\u001b[0m\u001b[0;34m\u001b[0m\u001b[0m\n\u001b[0m",
      "\u001b[0;32m~/anaconda3/lib/python3.6/site-packages/prov/model.py\u001b[0m in \u001b[0;36mbundle\u001b[0;34m(self, identifier)\u001b[0m\n\u001b[1;32m   2362\u001b[0m             )\n\u001b[1;32m   2363\u001b[0m         \u001b[0;32mif\u001b[0m \u001b[0mvalid_id\u001b[0m \u001b[0;32min\u001b[0m \u001b[0mself\u001b[0m\u001b[0;34m.\u001b[0m\u001b[0m_bundles\u001b[0m\u001b[0;34m:\u001b[0m\u001b[0;34m\u001b[0m\u001b[0m\n\u001b[0;32m-> 2364\u001b[0;31m             \u001b[0;32mraise\u001b[0m \u001b[0mProvException\u001b[0m\u001b[0;34m(\u001b[0m\u001b[0;34m'A bundle with that identifier already exists'\u001b[0m\u001b[0;34m)\u001b[0m\u001b[0;34m\u001b[0m\u001b[0m\n\u001b[0m\u001b[1;32m   2365\u001b[0m         \u001b[0mb\u001b[0m \u001b[0;34m=\u001b[0m \u001b[0mProvBundle\u001b[0m\u001b[0;34m(\u001b[0m\u001b[0midentifier\u001b[0m\u001b[0;34m=\u001b[0m\u001b[0mvalid_id\u001b[0m\u001b[0;34m,\u001b[0m \u001b[0mdocument\u001b[0m\u001b[0;34m=\u001b[0m\u001b[0mself\u001b[0m\u001b[0;34m)\u001b[0m\u001b[0;34m\u001b[0m\u001b[0m\n\u001b[1;32m   2366\u001b[0m         \u001b[0mself\u001b[0m\u001b[0;34m.\u001b[0m\u001b[0m_bundles\u001b[0m\u001b[0;34m[\u001b[0m\u001b[0mvalid_id\u001b[0m\u001b[0;34m]\u001b[0m \u001b[0;34m=\u001b[0m \u001b[0mb\u001b[0m\u001b[0;34m\u001b[0m\u001b[0m\n",
      "\u001b[0;31mProvException\u001b[0m: A bundle with that identifier already exists"
     ]
    }
   ],
   "source": [
    "doc1.bundle(k.identifier)"
   ]
  },
  {
   "cell_type": "markdown",
   "metadata": {},
   "source": [
    "## Compare generated PROV template with original example: "
   ]
  },
  {
   "cell_type": "code",
   "execution_count": null,
   "metadata": {},
   "outputs": [],
   "source": [
    "# %load Downloads/ProvToolbox-Tutorial4-0.7.0/src/main/resources/template1.provn\n",
    "\n",
    "document\n",
    "\n",
    "  prefix var <http://openprovenance.org/var#>\n",
    "  prefix vargen <http://openprovenance.org/vargen#>\n",
    "  prefix tmpl <http://openprovenance.org/tmpl#>\n",
    "\n",
    "  prefix foaf <http://xmlns.com/foaf/0.1/>\n",
    "  \n",
    "  bundle vargen:bundleId\n",
    "    entity(var:quote, [prov:value='var:value'])\n",
    "    entity(var:author, [prov:type='prov:Person', foaf:name='var:name'])\n",
    "    wasAttributedTo(var:quote,var:author)\n",
    "  endBundle\n",
    "\n",
    "endDocument\n"
   ]
  },
  {
   "cell_type": "markdown",
   "metadata": {},
   "source": [
    "## Instantiate PROV template \n",
    "\n"
   ]
  },
  {
   "cell_type": "code",
   "execution_count": 14,
   "metadata": {},
   "outputs": [
    {
     "name": "stdout",
     "output_type": "stream",
     "text": [
      "ex:quote1\n",
      "document\n",
      "  prefix var <http://openprovenance.org/var#>>\n",
      "  prefix vargen <http://openprovenance.org/vargen#>\n",
      "  prefix tmpl <http://openprovenance.org/tmpl#>\n",
      "  prefix foaf <http://xmlns.com/foaf/0.1/>\n",
      "  prefix ex <http://example.org/>\n",
      "  \n",
      "  bundle vargen:bundleid\n",
      "    entity(ex:quote1, [prov:value=\"A Little Provenance Goes a Long Way\"])\n",
      "    entity(ex:0000-0002-3494-120X, [prov:type=\"prov:Person\", foaf:name=\"Luc Moreau\"])\n",
      "    wasAttributedTo(ex:quote1, ex:0000-0002-3494-120X)\n",
      "  endBundle\n",
      "endDocument\n"
     ]
    }
   ],
   "source": [
    "doc2 = make_prov(**instance_dict)\n",
    "print(doc2.get_provn())"
   ]
  },
  {
   "cell_type": "code",
   "execution_count": 25,
   "metadata": {},
   "outputs": [
    {
     "data": {
      "image/png": "[encoded data removed]",
      "text/plain": [
       "<matplotlib.figure.Figure at 0x7efddb5bb5f8>"
      ]
     },
     "metadata": {},
     "output_type": "display_data"
    },
    {
     "data": {
      "image/png": "[encoded data removed]",
      "text/plain": [
       "<matplotlib.figure.Figure at 0x7efddb520a20>"
      ]
     },
     "metadata": {},
     "output_type": "display_data"
    }
   ],
   "source": [
    "%matplotlib  inline\n",
    "doc1.plot()\n",
    "doc2.plot()"
   ]
  },
  {
   "cell_type": "code",
   "execution_count": null,
   "metadata": {},
   "outputs": [],
   "source": [
    "# take same instantiation as in the tutorial:\n",
    "# %load Downloads/ProvToolbox-Tutorial4-0.7.0/src/main/resources/binding1.ttl\n",
    "@prefix prov: <http://www.w3.org/ns/prov#> .\n",
    "@prefix xsd: <http://www.w3.org/2001/XMLSchema#> .\n",
    "@prefix tmpl: <http://openprovenance.org/tmpl#> .\n",
    "@prefix var: <http://openprovenance.org/var#> .\n",
    "@prefix ex: <http://example.com/#> .\n",
    "\n",
    "var:author a prov:Entity;\n",
    "           tmpl:value_0 <http://orcid.org/0000-0002-3494-120X>.\n",
    "var:name   a prov:Entity;\n",
    "           tmpl:2dvalue_0_0 \"Luc Moreau\".\n",
    "var:quote  a prov:Entity;\n",
    "           tmpl:value_0 ex:quote1.\n",
    "var:value  a prov:Entity;\n",
    "           tmpl:2dvalue_0_0 \"A Little Provenance Goes a Long Way\".\n",
    "\n"
   ]
  },
  {
   "cell_type": "code",
   "execution_count": null,
   "metadata": {},
   "outputs": [],
   "source": []
  },
  {
   "cell_type": "markdown",
   "metadata": {},
   "source": [
    "## Instantiate PROV template using provconvert and compare results"
   ]
  },
  {
   "cell_type": "code",
   "execution_count": 15,
   "metadata": {},
   "outputs": [
    {
     "name": "stdout",
     "output_type": "stream",
     "text": [
      "bindings version is 1\r\n"
     ]
    }
   ],
   "source": [
    "!provconvert -infile test/template1.provn -bindings test/binding1.ttl -outfile test/doc1.provn"
   ]
  },
  {
   "cell_type": "code",
   "execution_count": null,
   "metadata": {},
   "outputs": [],
   "source": [
    "# %load test/doc1.provn\n",
    "document\n",
    "bundle uuid:b07bc92f-f16a-443c-9e0a-3bda4063fc10\n",
    "prefix foaf <http://xmlns.com/foaf/0.1/>\n",
    "prefix pre_0 <http://orcid.org/>\n",
    "prefix ex <http://example.com/#>\n",
    "prefix uuid <urn:uuid:>\n",
    "\n",
    "entity(ex:quote1,[prov:value = \"A Little Provenance Goes a Long Way\" %% xsd:string])\n",
    "entity(pre_0:0000-0002-3494-120X,[prov:type = 'prov:Person', foaf:name = \"Luc Moreau\" %% xsd:string])\n",
    "wasAttributedTo(ex:quote1, pre_0:0000-0002-3494-120X)\n",
    "endBundle\n",
    "endDocument\n"
   ]
  },
  {
   "cell_type": "code",
   "execution_count": 18,
   "metadata": {},
   "outputs": [],
   "source": [
    "!provconvert -infile test/doc1.provn -outfile test/doc1.png\n"
   ]
  },
  {
   "cell_type": "code",
   "execution_count": 19,
   "metadata": {},
   "outputs": [],
   "source": [
    "!provconvert -infile test/template1.provn -outfile test/template1.png"
   ]
  },
  {
   "cell_type": "code",
   "execution_count": null,
   "metadata": {},
   "outputs": [],
   "source": [
    "# %load Downloads/ProvToolbox-Tutorial4-0.7.0/target/doc1.provn\n",
    "document\n",
    "bundle uuid:4c7236d5-6420-4a88-b192-6089e27aa88e\n",
    "prefix foaf <http://xmlns.com/foaf/0.1/>\n",
    "prefix pre_0 <http://orcid.org/>\n",
    "prefix ex <http://example.com/#>\n",
    "prefix uuid <urn:uuid:>\n",
    "\n",
    "entity(ex:quote1,[prov:value = \"A Little Provenance Goes a Long Way\" %% xsd:string])\n",
    "entity(pre_0:0000-0002-3494-120X,[prov:type = 'prov:Person', foaf:name = \"Luc Moreau\" %% xsd:string])\n",
    "wasAttributedTo(ex:quote1, pre_0:0000-0002-3494-120X)\n",
    "endBundle\n",
    "endDocument\n"
   ]
  },
  {
   "cell_type": "code",
   "execution_count": null,
   "metadata": {},
   "outputs": [],
   "source": [
    "#------------------------to be removeed ------------------------------------"
   ]
  },
  {
   "cell_type": "code",
   "execution_count": null,
   "metadata": {},
   "outputs": [],
   "source": [
    "%matplotlib inline\n",
    "document.plot()"
   ]
  },
  {
   "cell_type": "code",
   "execution_count": null,
   "metadata": {},
   "outputs": [],
   "source": [
    "!cat Downloads/ProvToolbox-Tutorial4-0.7.0/Makefile"
   ]
  },
  {
   "cell_type": "markdown",
   "metadata": {},
   "source": [
    "# Show provconvert result to compare\n",
    "\n",
    "![in](./test/doc1.png)\n",
    "![out](./test/doc2.png)"
   ]
  },
  {
   "cell_type": "code",
   "execution_count": null,
   "metadata": {},
   "outputs": [],
   "source": [
    "#def set_template_vars(var_dict):\n",
    "#    for var, value in var_dict.items():\n",
    "#        globals()[var] = value"
   ]
  },
  {
   "cell_type": "markdown",
   "metadata": {},
   "source": [
    "# Test: PROV Template Instantiation class implementation"
   ]
  },
  {
   "cell_type": "code",
   "execution_count": null,
   "metadata": {},
   "outputs": [],
   "source": [
    "# idea: input: template prov doc\n",
    "#       param: instantiation settings (ttl)\n",
    "#       output: instantiated prov doc\n",
    "# impl: loop over prov entities and parameters and replace (initial version)\n",
    "#       later: more complex instantiation rules implementation\n",
    "\n",
    "\n",
    "\n",
    "class PROVT(object):\n",
    "    ''' Form object with attributes defined by a configurable project dictionary\n",
    "    '''\n",
    "    __metaclass__=abc.ABCMeta\n",
    "    def __init__(self, adict):\n",
    "        \"\"\"Convert a dictionary to a Form Object\n",
    "\n",
    "        :param adict: a (hierarchical) python dictionary\n",
    "        :returns Form objcet: a hierachical Form object with attributes set based on input dictionary\n",
    "        \"\"\"\n",
    "        self.__dict__.update(adict)\n",
    "        ## self.__dict__[key] = AttributeDict(**mydict)  ??\n",
    "        for k, v in adict.items():\n",
    "           if isinstance(v, dict):\n",
    "              self.__dict__[k] = PROVT(v)\n",
    "\n",
    "    \n",
    "    def make_prov(d,)\n",
    "    \n",
    "    \n",
    "    def __repr__(self):\n",
    "        \"\"\"\n",
    "        \"\"\"\n",
    "        return \"PROVT object \"\n",
    "\n",
    "    def __str__(self):\n",
    "        return \"PROVT object: %s\" %  self.__dict__\n",
    "\n"
   ]
  },
  {
   "cell_type": "code",
   "execution_count": 3,
   "metadata": {},
   "outputs": [
    {
     "name": "stdout",
     "output_type": "stream",
     "text": [
      "(1, 2, 3)\n"
     ]
    }
   ],
   "source": [
    "def test(*par):\n",
    "    print(par)\n",
    "    \n",
    "par =(1,2,3) \n",
    "test(*par)"
   ]
  },
  {
   "cell_type": "code",
   "execution_count": 67,
   "metadata": {},
   "outputs": [
    {
     "name": "stdout",
     "output_type": "stream",
     "text": [
      "[[], [<ProvEntity: var:quote>, <ProvEntity: var:author>, <ProvAttribution: (var:quote, var:author)>]]\n",
      "entity(var:quote, [prov:value=\"ex:tst\", prov:value=\"var:value\"])\n",
      "Element\n",
      "[(<QualifiedName: prov:value>, 'ex:tst'), (<QualifiedName: prov:value>, 'var:value')]\n",
      "prov:value ex:tst\n",
      "added attribute to  prov:value ex:tst\n",
      "prov:value var:value\n",
      "added attribute to  prov:value var:value\n",
      "entity(var:author, [prov:type=\"prov:Person\", prov:type=\"ex:tst\", foaf:name=\"ex:tst\", foaf:name=\"var:name\"])\n",
      "Element\n",
      "[(<QualifiedName: prov:type>, 'prov:Person'), (<QualifiedName: prov:type>, 'ex:tst'), (<QualifiedName: foaf:name>, 'ex:tst'), (<QualifiedName: foaf:name>, 'var:name')]\n",
      "prov:type prov:Person\n",
      "added attribute to  prov:type prov:Person\n",
      "prov:type ex:tst\n",
      "added attribute to  prov:type ex:tst\n",
      "foaf:name ex:tst\n",
      "added attribute to  foaf:name ex:tst\n",
      "foaf:name var:name\n",
      "added attribute to  foaf:name var:name\n",
      "wasAttributedTo(var:quote, var:author)\n",
      "Relation\n"
     ]
    }
   ],
   "source": [
    "from prov.model import ProvDocument\n",
    "from prov.dot import prov_to_dot\n",
    "from IPython.display import Image\n",
    "from prov.model import (\n",
    "    PROV_ACTIVITY, PROV_AGENT, PROV_ALTERNATE, PROV_ASSOCIATION,\n",
    "    PROV_ATTRIBUTION, PROV_BUNDLE, PROV_COMMUNICATION, PROV_DERIVATION,\n",
    "    PROV_DELEGATION, PROV_ENTITY, PROV_GENERATION, PROV_INFLUENCE,\n",
    "    PROV_INVALIDATION, PROV_END, PROV_MEMBERSHIP, PROV_MENTION,\n",
    "    PROV_SPECIALIZATION, PROV_START, PROV_USAGE, Identifier,\n",
    "    PROV_ATTRIBUTE_QNAMES, sorted_attributes, ProvException\n",
    ")\n",
    "\n",
    "import six\n",
    "\n",
    "r_list = []\n",
    "records = doc1.get_records()\n",
    "r_list.append(records)\n",
    "\n",
    "blist = list(doc1.bundles)\n",
    "for bundle in blist:\n",
    "   r_list.append(bundle.records) \n",
    "print(r_list)\n",
    "\n",
    "\n",
    "for r in r_list:\n",
    "    if r: \n",
    "        for pp in r:\n",
    "           print(pp)\n",
    "           if pp.is_element():\n",
    "                print(\"Element\")\n",
    "                print(pp.attributes)\n",
    "                for (qn,val) in pp.attributes:\n",
    "                    print(qn,val)\n",
    "                    pp.add_attributes({qn:'ex:tst'})\n",
    "                    print(\"added attribute to \",qn,val)\n",
    "           if pp.is_relation():\n",
    "                print(\"Relation\")\n",
    "          \n",
    "           #print(pp.identifier.localpart) \n",
    "           #print(pp.value) "
   ]
  },
  {
   "cell_type": "code",
   "execution_count": 68,
   "metadata": {},
   "outputs": [
    {
     "name": "stdout",
     "output_type": "stream",
     "text": [
      "entity(var:quote, [prov:value=\"ex:tst\", prov:value=\"var:value\"])\n",
      "entity(var:author, [prov:type=\"prov:Person\", prov:type=\"ex:tst\", foaf:name=\"ex:tst\", foaf:name=\"var:name\"])\n",
      "wasAttributedTo(var:quote, var:author)\n"
     ]
    }
   ],
   "source": [
    "for r in r_list:\n",
    "    if r: \n",
    "        for pp in r:\n",
    "           print(pp)"
   ]
  },
  {
   "cell_type": "code",
   "execution_count": 63,
   "metadata": {},
   "outputs": [
    {
     "name": "stdout",
     "output_type": "stream",
     "text": [
      "document\n",
      "  prefix var <http://openprovenance.org/var#>>\n",
      "  prefix vargen <http://openprovenance.org/vargen#>\n",
      "  prefix tmpl <http://openprovenance.org/tmpl#>\n",
      "  prefix foaf <http://xmlns.com/foaf/0.1/>\n",
      "  prefix ex <http://example.org/>\n",
      "  prefix orcid <http://orcid.org/>\n",
      "  \n",
      "  bundle vargen:bundleid\n",
      "    prefix foaf <http://xmlns.com/foaf/0.1/>\n",
      "    \n",
      "    entity(var:quote, [prov:value=\"ex:tst\", prov:value=\"var:value\"])\n",
      "    entity(var:author, [prov:type=\"prov:Person\", prov:type=\"ex:tst\", foaf:name=\"ex:tst\", foaf:name=\"var:name\"])\n",
      "    wasAttributedTo(var:quote, var:author)\n",
      "  endBundle\n",
      "endDocument\n"
     ]
    }
   ],
   "source": [
    "print(doc1.get_provn())"
   ]
  },
  {
   "cell_type": "code",
   "execution_count": 46,
   "metadata": {},
   "outputs": [
    {
     "data": {
      "text/plain": [
       "[]"
      ]
     },
     "execution_count": 46,
     "metadata": {},
     "output_type": "execute_result"
    }
   ],
   "source": [
    "#record = records[0]\n",
    "record = records[-1]\n",
    "#record.value\n",
    "record.args\n",
    "record.attributes\n",
    "record.extra_attributes\n"
   ]
  },
  {
   "cell_type": "code",
   "execution_count": null,
   "metadata": {},
   "outputs": [],
   "source": []
  },
  {
   "cell_type": "code",
   "execution_count": 69,
   "metadata": {},
   "outputs": [
    {
     "name": "stdout",
     "output_type": "stream",
     "text": [
      "[(<QualifiedName: prov:entity>, <QualifiedName: var:quote>), (<QualifiedName: prov:agent>, <QualifiedName: var:author>)]\n",
      "None\n"
     ]
    },
    {
     "ename": "AttributeError",
     "evalue": "'NoneType' object has no attribute 'localpart'",
     "output_type": "error",
     "traceback": [
      "\u001b[0;31m---------------------------------------------------------------------------\u001b[0m",
      "\u001b[0;31mAttributeError\u001b[0m                            Traceback (most recent call last)",
      "\u001b[0;32m<ipython-input-69-8875bb89d55d>\u001b[0m in \u001b[0;36m<module>\u001b[0;34m()\u001b[0m\n\u001b[1;32m      2\u001b[0m \u001b[0meid\u001b[0m \u001b[0;34m=\u001b[0m \u001b[0mrecord\u001b[0m\u001b[0;34m.\u001b[0m\u001b[0midentifier\u001b[0m\u001b[0;34m\u001b[0m\u001b[0m\n\u001b[1;32m      3\u001b[0m \u001b[0mprint\u001b[0m\u001b[0;34m(\u001b[0m\u001b[0meid\u001b[0m\u001b[0;34m)\u001b[0m\u001b[0;34m\u001b[0m\u001b[0m\n\u001b[0;32m----> 4\u001b[0;31m \u001b[0meid\u001b[0m\u001b[0;34m.\u001b[0m\u001b[0mlocalpart\u001b[0m\u001b[0;34m\u001b[0m\u001b[0m\n\u001b[0m\u001b[1;32m      5\u001b[0m \u001b[0meid\u001b[0m\u001b[0;34m.\u001b[0m\u001b[0mnamespace\u001b[0m\u001b[0;34m\u001b[0m\u001b[0m\n",
      "\u001b[0;31mAttributeError\u001b[0m: 'NoneType' object has no attribute 'localpart'"
     ]
    }
   ],
   "source": [
    "print(record.attributes)\n",
    "eid = record.identifier\n",
    "print(eid)\n",
    "eid.localpart\n",
    "eid.namespace"
   ]
  },
  {
   "cell_type": "code",
   "execution_count": 76,
   "metadata": {},
   "outputs": [
    {
     "name": "stdout",
     "output_type": "stream",
     "text": [
      "[]\n"
     ]
    }
   ],
   "source": [
    "print(doc1.records)"
   ]
  },
  {
   "cell_type": "code",
   "execution_count": 106,
   "metadata": {},
   "outputs": [
    {
     "name": "stdout",
     "output_type": "stream",
     "text": [
      "match:  ex:quote1\n",
      "match:  orcid:0000-0002-3494-120X\n",
      "document\n",
      "  prefix var <http://openprovenance.org/var#>>\n",
      "  prefix vargen <http://openprovenance.org/vargen#>\n",
      "  prefix tmpl <http://openprovenance.org/tmpl#>\n",
      "  prefix foaf <http://xmlns.com/foaf/0.1/>\n",
      "  prefix ex <http://example.org/>\n",
      "  prefix orcid <http://orcid.org/>\n",
      "  \n",
      "  bundle vargen:bundleid\n",
      "    entity(var:quote, [prov:value=\"var:value\"])\n",
      "    entity(var:author, [prov:type=\"prov:Person\", foaf:name=\"var:name\"])\n",
      "    wasAttributedTo(var:quote, var:author)\n",
      "  endBundle\n",
      "endDocument\n",
      "document\n",
      "  default <http://example.org/0/>\n",
      "  prefix var <http://openprovenance.org/var#>>\n",
      "  prefix vargen <http://openprovenance.org/vargen#>\n",
      "  prefix tmpl <http://openprovenance.org/tmpl#>\n",
      "  prefix foaf <http://xmlns.com/foaf/0.1/>\n",
      "  prefix ex <http://example.org/>\n",
      "  prefix orcid <http://orcid.org/>\n",
      "  \n",
      "  entity(ex:quote1)\n",
      "  entity(orcid:0000-0002-3494-120X)\n",
      "endDocument\n"
     ]
    }
   ],
   "source": [
    "from prov.model import ProvDocument\n",
    "from prov.dot import prov_to_dot\n",
    "from IPython.display import Image\n",
    "from prov.model import (\n",
    "    PROV_ACTIVITY, PROV_AGENT, PROV_ALTERNATE, PROV_ASSOCIATION,\n",
    "    PROV_ATTRIBUTION, PROV_BUNDLE, PROV_COMMUNICATION, PROV_DERIVATION,\n",
    "    PROV_DELEGATION, PROV_ENTITY, PROV_GENERATION, PROV_INFLUENCE,\n",
    "    PROV_INVALIDATION, PROV_END, PROV_MEMBERSHIP, PROV_MENTION,\n",
    "    PROV_SPECIALIZATION, PROV_START, PROV_USAGE, Identifier,\n",
    "    PROV_ATTRIBUTE_QNAMES, sorted_attributes, ProvException\n",
    ")\n",
    "\n",
    "import six\n",
    "import itertools\n",
    "\n",
    "def match(eid,mdict):\n",
    "    if eid in mdict:\n",
    "        return mdict[eid]\n",
    "    else:\n",
    "        print(\"Warning: matching of key not successful: \",eid)\n",
    "        return eid\n",
    "    \n",
    "\n",
    "def gen_graph_model(prov_doc):\n",
    "     \n",
    "    new_doc = new_provdoc() \n",
    "    \n",
    "    relations = []\n",
    "    nodes = []\n",
    "    new_nodes=[]\n",
    "    r_list = []\n",
    "    \n",
    "    records = prov_doc.get_records()\n",
    "    \n",
    "    r_list.append(records)\n",
    "\n",
    "    blist = list(prov_doc.bundles)\n",
    "    for bundle in blist:\n",
    "        r_list.append(bundle.records)\n",
    "        #print(bundle.records)\n",
    "    \n",
    "    fr_list = list(itertools.chain(*r_list))\n",
    "\n",
    "    for rec in fr_list:\n",
    "         if rec.is_element():\n",
    "            nodes.append(rec)\n",
    "            #print(rec)\n",
    "         else:\n",
    "            relations.append(rec)\n",
    "            \n",
    "    for rec in nodes:\n",
    "        eid = rec.identifier\n",
    "        attr = rec.attributes\n",
    "        args = rec.args\n",
    "        \n",
    "        #print(eid)\n",
    "        #print(attr)\n",
    "        #print(args)\n",
    "        neid = match(eid._str,instance_dict)\n",
    "        print(\"match: \",neid)\n",
    "        new_node = new_doc.entity(Identifier(neid))\n",
    "        new_nodes.append(new_node)\n",
    "        \n",
    "        \n",
    "    return new_doc\n",
    "\n",
    "new = gen_graph_model(doc1)\n",
    "print(doc1.get_provn())\n",
    "print(new.get_provn())\n",
    "               \n",
    "\n"
   ]
  },
  {
   "cell_type": "code",
   "execution_count": 94,
   "metadata": {},
   "outputs": [
    {
     "data": {
      "text/plain": [
       "'ex:quote1'"
      ]
     },
     "execution_count": 94,
     "metadata": {},
     "output_type": "execute_result"
    }
   ],
   "source": [
    "match(\"var:quote\",instance_dict)"
   ]
  },
  {
   "cell_type": "code",
   "execution_count": null,
   "metadata": {},
   "outputs": [],
   "source": [
    "\n",
    "    for rec in relations:\n",
    "                args = rec.args\n",
    "                # skipping empty records\n",
    "                if not args:\n",
    "                    continue\n",
    "                # picking element nodes\n",
    "                nodes = [\n",
    "                    value for attr_name, value in rec.formal_attributes\n",
    "                    if attr_name in PROV_ATTRIBUTE_QNAMES\n",
    "                ]\n",
    "                other_attributes = [\n",
    "                    (attr_name, value) for attr_name, value in rec.attributes\n",
    "                    if attr_name not in PROV_ATTRIBUTE_QNAMES\n",
    "                ]\n",
    "    return (nodes,other_attributes)\n",
    "                "
   ]
  }
 ],
 "metadata": {
  "kernelspec": {
   "display_name": "Python 3",
   "language": "python",
   "name": "python3"
  },
  "language_info": {
   "codemirror_mode": {
    "name": "ipython",
    "version": 3
   },
   "file_extension": ".py",
   "mimetype": "text/x-python",
   "name": "python",
   "nbconvert_exporter": "python",
   "pygments_lexer": "ipython3",
   "version": "3.6.4"
  }
 },
 "nbformat": 4,
 "nbformat_minor": 2
}
