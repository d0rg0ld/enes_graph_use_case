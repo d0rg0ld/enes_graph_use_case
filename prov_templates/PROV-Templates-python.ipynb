{
 "cells": [
  {
   "cell_type": "markdown",
   "metadata": {},
   "source": [
    "# PROV Templates in Python\n",
    "\n",
    "Author: Stephan Kindermann\n",
    "\n",
    "Affiliation: DKRZ\n",
    "\n",
    "Community: ENES (Earth System Sciences)\n",
    "\n",
    "Version: 0.1 (July 2018)\n",
    "    \n",
    "**Motivation:**\n",
    "PROV template expansion currently is only supported by the **provconvert** java tool.\n",
    "Yet initial generation and integration of PROV descriptions as part of community efforts \n",
    "is oftenly done by adopting interactive languages like python.\n",
    "Additionally sharing PROV adoption narratives is well supported by using jupyter notebooks.\n",
    "Finally in our community (ENES) core infrastructure services are implemented using python and \n",
    "thus also prov documents will be generated mostly based on python. The usage of the\n",
    "java based provconvert tool to instantiate templates hinders the adoption of PROV in \n",
    "our community. Besides the necessity to install the tool and use java the key drawback is that provconvert output can not be converted into a python prov document (python prov only supports deserialization from prov-json which is not supported as an output format of provconvert). \n",
    "(What is needed in the short term are simple python based wrappers integrated in our\n",
    "community workflow, generating prov descriptions best on the basis of prov template instantiations).\n",
    "\n",
    "**Approach taken**\n",
    "Thus a simple approach is taken which on the one hand side allows to use PROV templates and which\n",
    "on the other hand side allows for pure python based template instantiations.\n",
    "Drawback is that the elaborated prov expansion algorithm can not be used - yet to make the expansion\n",
    "explicit on the basis of python can also seen as an advantage as the community PROV adopters don't\n",
    "need to dig into the expansion algorithm implemented as part of provconvert (and eventual errors therein).\n",
    "\n",
    "The approach taken is illustrated in the following:\n",
    "    \n",
    "* PROV templates (being standard PROV documents) are generated in Python based on the prov library.\n",
    "* The syntax of thes PROV templates is aligned to the mako python templating language -\n",
    "these templates are callec PROV-py templates in the following.\n",
    "* PROV-py templates can be simply expanded to standard PROV templates and can thus \n",
    "be further processed by the provconvert tool\n",
    "* PROV-py templates can be simply instantiated in python using the mako templationg approach"
   ]
  },
  {
   "cell_type": "markdown",
   "metadata": {},
   "source": [
    "## Generate a PROV-py template\n",
    "syntactically PROV-py templates on one hand side PROV templates with a different syntactical\n",
    "characterization of the *variable* parts. On the other side PROV-py templates are templates \n",
    "which can be directly processed using the mako templating approach. \n",
    "\n",
    "\n",
    "Algorithm to translate mako template into prov template: \n",
    "(simple string replacement - can also be done by using mako .. :-) \n",
    "\n",
    "* replace   =\"${xxxx}\"     by  =var:xxxx\n",
    "\n",
    "* replace   var:${yyyy}  by  var:yyyy \n",
    "\n",
    "In the following the approach is illustrated based on the first example in the provconvert tutorial. "
   ]
  },
  {
   "cell_type": "code",
   "execution_count": 68,
   "metadata": {},
   "outputs": [
    {
     "name": "stdout",
     "output_type": "stream",
     "text": [
      "document\n",
      "  prefix var <http://openprovenance.org/var#>>\n",
      "  prefix vargen <http://openprovenance.org/vargen#>\n",
      "  prefix tmpl <http://openprovenance.org/tmpl#>\n",
      "  prefix foaf <http://xmlns.com/foaf/0.1/>\n",
      "  \n",
      "  bundle vargen:bundleid\n",
      "    entity(var:quote, [prov:value=\"${value}\"])\n",
      "    entity(var:${author}, [prov:type=\"prov:Person\", foaf:name=\"${name}\"])\n",
      "    wasAttributedTo(var:quote, var:${author})\n",
      "  endBundle\n",
      "endDocument\n"
     ]
    }
   ],
   "source": [
    "import prov.model as prov\n",
    "\n",
    "document = prov.ProvDocument()\n",
    "\n",
    "\n",
    "document.add_namespace('prov','http://www.w3.org/ns/prov#')\n",
    "document.add_namespace('var','http://openprovenance.org/var#>')\n",
    "\n",
    "document.add_namespace('vargen','http://openprovenance.org/vargen#')\n",
    "document.add_namespace('tmpl','http://openprovenance.org/tmpl#')\n",
    "document.add_namespace('foaf','http://xmlns.com/foaf/0.1/')\n",
    "\n",
    "#document.set_default_namespace('http://example.org/0/')\n",
    "#document.add_namespace('rdf','http://www.w3.org/1999/02/22-rdf-syntax-ns#')\n",
    "#document.add_namespace('rdfs','http://www.w3.org/2000/01/rdf-schema#')\n",
    "#document.add_namespace('xsd','http://www.w3.org/2001/XMLSchema#')\n",
    "#document.add_namespace('ex1', 'http://example.org/1/')\n",
    "#document.add_namespace('ex2', 'http://example.org/2/')\n",
    "#document.add_namespace('ex', 'http://example.org/')\n",
    "\n",
    "\n",
    "bundle = document.bundle('vargen:bundleid')\n",
    "#bundle.set_default_namespace('http://example.org/0/')\n",
    "quote = bundle.entity('var:quote',(\n",
    "     ('prov:value','${value}'),\n",
    "))    \n",
    "\n",
    "author = bundle.entity('var:${author}',\n",
    "    ((prov.PROV_TYPE, \"prov:Person\"),\n",
    "    ('foaf:name','${name}')) ) \n",
    "\n",
    "bundle.wasAttributedTo('var:quote','var:${author}')\n",
    "\n",
    "templ1 = document.get_provn()\n",
    "print(templ1)\n"
   ]
  },
  {
   "cell_type": "markdown",
   "metadata": {},
   "source": [
    "## Convert the PROV-py provn serialization into a mako template"
   ]
  },
  {
   "cell_type": "code",
   "execution_count": 63,
   "metadata": {},
   "outputs": [],
   "source": [
    "from mako.template import Template\n",
    "mtempl1 = Template(templ1)"
   ]
  },
  {
   "cell_type": "markdown",
   "metadata": {},
   "source": [
    "## Convert the PROV-py mako template into a standard PROV template\n",
    "\n",
    "* variable property names xxx are instantiated as 'var:xxx'\n",
    "* variable entity names yyy are instantiated as yyy"
   ]
  },
  {
   "cell_type": "code",
   "execution_count": 69,
   "metadata": {},
   "outputs": [
    {
     "name": "stdout",
     "output_type": "stream",
     "text": [
      "document\n",
      "  prefix var <http://openprovenance.org/var#>>\n",
      "  prefix vargen <http://openprovenance.org/vargen#>\n",
      "  prefix tmpl <http://openprovenance.org/tmpl#>\n",
      "  prefix foaf <http://xmlns.com/foaf/0.1/>\n",
      "  \n",
      "  bundle vargen:bundleid\n",
      "    entity(var:quote, [prov:value=\"var:value\"])\n",
      "    entity(var:author, [prov:type=\"prov:Person\", foaf:name=\"var:name\"])\n",
      "    wasAttributedTo(var:quote, var:author)\n",
      "  endBundle\n",
      "endDocument\n"
     ]
    }
   ],
   "source": [
    "print(mtempl1.render(value='var:value',name='var:name',author='author'))"
   ]
  },
  {
   "cell_type": "markdown",
   "metadata": {},
   "source": [
    "## Compare generated PROV template with original example: "
   ]
  },
  {
   "cell_type": "code",
   "execution_count": null,
   "metadata": {},
   "outputs": [],
   "source": [
    "# %load Downloads/ProvToolbox-Tutorial4-0.7.0/src/main/resources/template1.provn\n",
    "\n",
    "document\n",
    "\n",
    "  prefix var <http://openprovenance.org/var#>\n",
    "  prefix vargen <http://openprovenance.org/vargen#>\n",
    "  prefix tmpl <http://openprovenance.org/tmpl#>\n",
    "\n",
    "  prefix foaf <http://xmlns.com/foaf/0.1/>\n",
    "  \n",
    "  bundle vargen:bundleId\n",
    "    entity(var:quote, [prov:value='var:value'])\n",
    "    entity(var:author, [prov:type='prov:Person', foaf:name='var:name'])\n",
    "    wasAttributedTo(var:quote,var:author)\n",
    "  endBundle\n",
    "\n",
    "endDocument\n"
   ]
  },
  {
   "cell_type": "markdown",
   "metadata": {},
   "source": [
    "## Instantiate PROV-py template "
   ]
  },
  {
   "cell_type": "code",
   "execution_count": null,
   "metadata": {},
   "outputs": [],
   "source": [
    "# take same instantiation as in the tutorial:\n",
    "# %load Downloads/ProvToolbox-Tutorial4-0.7.0/src/main/resources/binding1.ttl\n",
    "@prefix prov: <http://www.w3.org/ns/prov#> .\n",
    "@prefix xsd: <http://www.w3.org/2001/XMLSchema#> .\n",
    "@prefix tmpl: <http://openprovenance.org/tmpl#> .\n",
    "@prefix var: <http://openprovenance.org/var#> .\n",
    "@prefix ex: <http://example.com/#> .\n",
    "\n",
    "var:author a prov:Entity;\n",
    "           tmpl:value_0 <http://orcid.org/0000-0002-3494-120X>.\n",
    "var:name   a prov:Entity;\n",
    "           tmpl:2dvalue_0_0 \"Luc Moreau\".\n",
    "var:quote  a prov:Entity;\n",
    "           tmpl:value_0 ex:quote1.\n",
    "var:value  a prov:Entity;\n",
    "           tmpl:2dvalue_0_0 \"A Little Provenance Goes a Long Way\".\n",
    "\n"
   ]
  },
  {
   "cell_type": "code",
   "execution_count": 71,
   "metadata": {},
   "outputs": [
    {
     "name": "stdout",
     "output_type": "stream",
     "text": [
      "document\n",
      "  prefix var <http://openprovenance.org/var#>>\n",
      "  prefix vargen <http://openprovenance.org/vargen#>\n",
      "  prefix tmpl <http://openprovenance.org/tmpl#>\n",
      "  prefix foaf <http://xmlns.com/foaf/0.1/>\n",
      "  \n",
      "  bundle vargen:bundleid\n",
      "    entity(var:quote, [prov:value=\"A Little Provenance Goes a Long Way\"])\n",
      "    entity(var:http://orcid.org/0000-0002-3494-120X, [prov:type=\"prov:Person\", foaf:name=\"Luc Moreau\"])\n",
      "    wasAttributedTo(var:quote, var:http://orcid.org/0000-0002-3494-120X)\n",
      "  endBundle\n",
      "endDocument\n"
     ]
    }
   ],
   "source": [
    "print(mtempl1.render(value=\"A Little Provenance Goes a Long Way\",\n",
    "                     name=\"Luc Moreau\",\n",
    "                     author=\"http://orcid.org/0000-0002-3494-120X\"))"
   ]
  },
  {
   "cell_type": "markdown",
   "metadata": {},
   "source": [
    "## Instantiate PROV template using provconvert and compare results"
   ]
  },
  {
   "cell_type": "code",
   "execution_count": 9,
   "metadata": {},
   "outputs": [
    {
     "name": "stdout",
     "output_type": "stream",
     "text": [
      "bindings version is 1\r\n"
     ]
    }
   ],
   "source": [
    "!provconvert -infile Downloads/ProvToolbox-Tutorial4-0.7.0/src/main/resources/template1.provn -bindings Downloads/ProvToolbox-Tutorial4-0.7.0/src/main/resources/binding1.ttl -outfile Downloads/ProvToolbox-Tutorial4-0.7.0/target/doc1.provn"
   ]
  },
  {
   "cell_type": "code",
   "execution_count": 10,
   "metadata": {},
   "outputs": [],
   "source": [
    "!provconvert -infile Downloads/ProvToolbox-Tutorial4-0.7.0/target/doc1.provn -outfile Downloads/ProvToolbox-Tutorial4-0.7.0/target/doc1.png\n"
   ]
  },
  {
   "cell_type": "code",
   "execution_count": 11,
   "metadata": {},
   "outputs": [],
   "source": [
    "!provconvert -infile Downloads/ProvToolbox-Tutorial4-0.7.0/src/main/resources/template1.provn -outfile Downloads/ProvToolbox-Tutorial4-0.7.0/target/template1.png"
   ]
  },
  {
   "cell_type": "code",
   "execution_count": null,
   "metadata": {},
   "outputs": [],
   "source": [
    "# %load Downloads/ProvToolbox-Tutorial4-0.7.0/target/doc1.provn\n",
    "document\n",
    "bundle uuid:4c7236d5-6420-4a88-b192-6089e27aa88e\n",
    "prefix foaf <http://xmlns.com/foaf/0.1/>\n",
    "prefix pre_0 <http://orcid.org/>\n",
    "prefix ex <http://example.com/#>\n",
    "prefix uuid <urn:uuid:>\n",
    "\n",
    "entity(ex:quote1,[prov:value = \"A Little Provenance Goes a Long Way\" %% xsd:string])\n",
    "entity(pre_0:0000-0002-3494-120X,[prov:type = 'prov:Person', foaf:name = \"Luc Moreau\" %% xsd:string])\n",
    "wasAttributedTo(ex:quote1, pre_0:0000-0002-3494-120X)\n",
    "endBundle\n",
    "endDocument\n"
   ]
  },
  {
   "cell_type": "code",
   "execution_count": null,
   "metadata": {},
   "outputs": [],
   "source": [
    "# ToDo:\n",
    "- correct namespace handling in instantiation .. \n"
   ]
  },
  {
   "cell_type": "code",
   "execution_count": null,
   "metadata": {},
   "outputs": [],
   "source": [
    "#------------------------to be removeed ------------------------------------"
   ]
  },
  {
   "cell_type": "code",
   "execution_count": 65,
   "metadata": {},
   "outputs": [
    {
     "data": {
      "image/png": "[encoded data removed]",
      "text/plain": [
       "<matplotlib.figure.Figure at 0x7f9c71fa40b8>"
      ]
     },
     "metadata": {},
     "output_type": "display_data"
    }
   ],
   "source": [
    "%matplotlib inline\n",
    "document.plot()"
   ]
  },
  {
   "cell_type": "code",
   "execution_count": 2,
   "metadata": {},
   "outputs": [
    {
     "name": "stdout",
     "output_type": "stream",
     "text": [
      "\r\n",
      "do.all:\r\n",
      "\tmkdir target\r\n",
      "\t$(MAKE) expand1\r\n",
      "\t$(MAKE) expand2\r\n",
      "\t$(MAKE) expand3\r\n",
      "\t$(MAKE) expand4\r\n",
      "\t$(MAKE) expand5\r\n",
      "\r\n",
      "\r\n",
      "expand1:\r\n",
      "\tprovconvert -infile src/main/resources/template1.provn -bindings src/main/resources/binding1.ttl -outfile target/doc1.provn\r\n",
      "\tprovconvert -infile target/doc1.provn -outfile target/doc1.png\r\n",
      "\tprovconvert -infile src/main/resources/template1.provn -outfile target/template1.png\r\n",
      "\r\n",
      "expand2:\r\n",
      "\tprovconvert -infile src/main/resources/template1.provn -bindings src/main/resources/binding2.ttl -outfile target/doc2.provn\r\n",
      "\tprovconvert -infile target/doc2.provn -outfile target/doc2.png\r\n",
      "\r\n",
      "\r\n",
      "expand3:\r\n",
      "\tprovconvert -infile src/main/resources/template1.provn -bindings src/main/resources/binding3.ttl -outfile target/doc3.provn\r\n",
      "\tprovconvert -infile target/doc3.provn -outfile target/doc3.png\r\n",
      "\r\n",
      "\r\n",
      "expand4:\r\n",
      "\tprovconvert -infile src/main/resources/template2.provn -bindings src/main/resources/binding4.ttl -outfile target/doc4.provn\r\n",
      "\tprovconvert -infile target/doc4.provn -outfile target/doc4.png\r\n",
      "\tprovconvert -infile src/main/resources/template2.provn -outfile target/template2.png\r\n",
      "\r\n",
      "\r\n",
      "expand5:\r\n",
      "\tprovconvert -infile src/main/resources/template3.provn -bindings src/main/resources/binding4.ttl -outfile target/doc5.provn\r\n",
      "\tprovconvert -infile target/doc5.provn -outfile target/doc5.png\r\n",
      "\tprovconvert -infile src/main/resources/template3.provn -outfile target/template3.png\r\n"
     ]
    }
   ],
   "source": [
    "!cat Downloads/ProvToolbox-Tutorial4-0.7.0/Makefile"
   ]
  },
  {
   "cell_type": "markdown",
   "metadata": {},
   "source": [
    "# Show result\n",
    "\n",
    "![in](./Downloads/ProvToolbox-Tutorial4-0.7.0/target/doc1.png)\n",
    "![out](./Downloads/ProvToolbox-Tutorial4-0.7.0/target/doc2.png)"
   ]
  }
 ],
 "metadata": {
  "kernelspec": {
   "display_name": "Python 3",
   "language": "python",
   "name": "python3"
  },
  "language_info": {
   "codemirror_mode": {
    "name": "ipython",
    "version": 3
   },
   "file_extension": ".py",
   "mimetype": "text/x-python",
   "name": "python",
   "nbconvert_exporter": "python",
   "pygments_lexer": "ipython3",
   "version": "3.6.4"
  }
 },
 "nbformat": 4,
 "nbformat_minor": 2
}
