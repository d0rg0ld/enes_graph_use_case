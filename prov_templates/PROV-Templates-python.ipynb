{
 "cells": [
  {
   "cell_type": "markdown",
   "metadata": {},
   "source": [
    "# PROV Templates in Python\n",
    "\n",
    "     Author: Stephan Kindermann\n",
    "     Affiliation: DKRZ\n",
    "     Community: ENES (Earth System Sciences)\n",
    "     Version: 0.2 (July 2018)\n",
    "    \n",
    "**Motivation:**\n",
    "* The adoption of PROV templates in ENES community workflows is hindered by the following aspects:\n",
    "\n",
    "    * template generation in ENES oftenly needs to be tool based (template structure depends on project/experiment configuration) \n",
    "    * template instanciation in ENES oftenly is done in a scripting environment (most oftenly using python)\n",
    "    * template expansion currently is only supported by the **provconvert** java tool\n",
    "    * the transition from Java/provconvert to Python/prov is not fully supported (no import of provconvert output in prov supported) \n",
    "   \n",
    "* The sharing PROV adoption narratives is well supported by using jupyter notebooks and python.\n",
    "* Core infrastructure services in ENES are implemented using python. \n",
    "\n",
    "Therfore: \n",
    "* The java based **provconvert** tool thus is difficult to exploit in ENES use cases\n",
    "* Using prov templates is by now only usefull for \"documentation\" purposes - no impact on community approaches. \n",
    "* To have an impact on community approaches in the short term simple python based wrappers are needed which can be integrated in our community workflows.  \n",
    "\n",
    "**Approach taken**\n",
    "A simple template instantiation package (called provtemplates) was implemented supporting the instantiation of prov templates in python.  \n",
    "This approach on the one hand side allows to generate and use PROV templates in python and which on the other hand side allows for pure python based template instantiations.\n",
    "\n",
    "Drawback (by now) is that the elaborated prov expansion algorithm is not yet implemented fully. But expansion rules can implemented easyly explicitely in python when needed (and later integrated into the python package). To make the expansion explicit on the basis of python can also seen as an advantage as the community PROV adopters don't need to dig into the expansion algorithm implemented as part of provconvert (and eventual errors therein).\n",
    "\n",
    "The approach taken is illustrated in the following:   \n",
    "* PROV templates (being standard PROV documents) are generated in Python based on the prov library alongside PROV template instances.\n",
    "* A very simple instantiation algorithm is used to instantiate templates based on dictionaries containing the variable settings .. this instantiation algorithm can be stepwise expanded in the future\n"
   ]
  },
  {
   "cell_type": "markdown",
   "metadata": {},
   "source": [
    "## Generate a PROV template\n",
    "PROV templates are generated in functions with all RROV variables as parameters.\n",
    "This function is called with prov template variable names to generate prov templates. When called with instances the result is an prov document corresponding to the instantiated prov template.\n",
    "\n",
    "In the following the approach is illustrated based on a concrete examplec (corresponding to the first example in the provconvert tutorial). \n",
    "\n",
    "### Initialize empty PROV template with namespaces needed"
   ]
  },
  {
   "cell_type": "code",
   "execution_count": 1,
   "metadata": {},
   "outputs": [],
   "source": [
    "# Define namespaces used and generate a new empty \n",
    "# python prov template instance\n",
    "# Define the variable settings in the template as a dictionary\n",
    "\n",
    "from provtemplates import provconv\n",
    "import prov.model as prov\n",
    "import six\n",
    "import itertools\n",
    "\n",
    "\n",
    "ns_dict = {\n",
    "    'prov':'http://www.w3.org/ns/prov#',\n",
    "    'var':'http://openprovenance.org/var#',\n",
    "    'vargen':'http://openprovenance.org/vargen#',\n",
    "    'tmpl':'http://openprovenance.org/tmpl#',\n",
    "    'foaf':'http://xmlns.com/foaf/0.1/',\n",
    "    'ex': 'http://example.org/',\n",
    "    'orcid':'http://orcid.org/',\n",
    "\n",
    "    #document.set_default_namespace('http://example.org/0/')\n",
    "    'rdf':'http://www.w3.org/1999/02/22-rdf-syntax-ns#',\n",
    "    'rdfs':'http://www.w3.org/2000/01/rdf-schema#',\n",
    "    'xsd':'http://www.w3.org/2001/XMLSchema#',\n",
    "    'ex1': 'http://example.org/1/',\n",
    "    'ex2': 'http://example.org/2/'\n",
    "}\n",
    "\n",
    "entity_dict = {  \n",
    "    'var:author':'orcid:0000-0002-3494-120X',\n",
    "    'var:quote':'ex:quote1'\n",
    "}\n",
    "\n",
    "attr_dict = {\n",
    "    'var:value':'A Little Provenance Goes a Long Way',\n",
    "    'var:name':'Luc Moreau',    \n",
    "}\n",
    "\n",
    "instance_dict = entity_dict.copy()\n",
    "instance_dict.update(attr_dict)\n",
    "\n",
    "doc0 = provconv.set_namespaces(ns_dict,prov.ProvDocument())\n",
    "\n",
    "binding0 = provconv.set_namespaces(ns_dict,prov.ProvDocument())\n"
   ]
  },
  {
   "cell_type": "markdown",
   "metadata": {},
   "source": [
    "### Generate an example prov template and print (and store) it's provn representation"
   ]
  },
  {
   "cell_type": "code",
   "execution_count": 2,
   "metadata": {},
   "outputs": [
    {
     "name": "stdout",
     "output_type": "stream",
     "text": [
      "document\n",
      "  prefix var <http://openprovenance.org/var#>\n",
      "  prefix vargen <http://openprovenance.org/vargen#>\n",
      "  prefix tmpl <http://openprovenance.org/tmpl#>\n",
      "  prefix foaf <http://xmlns.com/foaf/0.1/>\n",
      "  prefix ex <http://example.org/>\n",
      "  prefix orcid <http://orcid.org/>\n",
      "  prefix rdf <http://www.w3.org/1999/02/22-rdf-syntax-ns#>\n",
      "  prefix rdfs <http://www.w3.org/2000/01/rdf-schema#>\n",
      "  prefix ex1 <http://example.org/1/>\n",
      "  prefix ex2 <http://example.org/2/>\n",
      "  \n",
      "  bundle vargen:bundleid\n",
      "    entity(var:quote, [prov:value=\"var:value\"])\n",
      "    entity(var:author, [prov:type=\"prov:Person\", foaf:name=\"var:name\"])\n",
      "    wasAttributedTo(var:quote, var:author)\n",
      "  endBundle\n",
      "endDocument\n"
     ]
    }
   ],
   "source": [
    "doc1 = provconv.save_and_show(doc0,'/home/stephan/Repos/enes_graph_use_case/prov_templates/test/xxxx')"
   ]
  },
  {
   "cell_type": "markdown",
   "metadata": {},
   "source": [
    "### Generate an example binding from a python dictionaries\n",
    "\n",
    "(one for entitities and one for variable bindings)"
   ]
  },
  {
   "cell_type": "code",
   "execution_count": 3,
   "metadata": {},
   "outputs": [
    {
     "name": "stdout",
     "output_type": "stream",
     "text": [
      "document\n",
      "  prefix var <http://openprovenance.org/var#>\n",
      "  prefix vargen <http://openprovenance.org/vargen#>\n",
      "  prefix tmpl <http://openprovenance.org/tmpl#>\n",
      "  prefix foaf <http://xmlns.com/foaf/0.1/>\n",
      "  prefix ex <http://example.org/>\n",
      "  prefix orcid <http://orcid.org/>\n",
      "  prefix rdf <http://www.w3.org/1999/02/22-rdf-syntax-ns#>\n",
      "  prefix rdfs <http://www.w3.org/2000/01/rdf-schema#>\n",
      "  prefix ex1 <http://example.org/1/>\n",
      "  prefix ex2 <http://example.org/2/>\n",
      "  prefix tmpl_1 <<http://openprovenance.org/tmpl#>>\n",
      "  \n",
      "  entity(var:author, [tmpl:value=\"orcid:0000-0002-3494-120X\"])\n",
      "  entity(var:quote, [tmpl:value=\"ex:quote1\"])\n",
      "  entity(var:value, [tmpl:2dvalue_0_0=\"A Little Provenance Goes a Long Way\"])\n",
      "  entity(var:name, [tmpl:2dvalue_0_0=\"Luc Moreau\"])\n",
      "endDocument\n"
     ]
    }
   ],
   "source": [
    "binding1 = provconv.make_binding(binding0,entity_dict,attr_dict)\n",
    "print(binding1.get_provn())"
   ]
  },
  {
   "cell_type": "markdown",
   "metadata": {},
   "source": [
    "### Convert example to xml \n",
    "\n",
    "xml and rdf are the supported exchange formats for python prov (besides provn)\n"
   ]
  },
  {
   "cell_type": "code",
   "execution_count": 4,
   "metadata": {},
   "outputs": [
    {
     "name": "stdout",
     "output_type": "stream",
     "text": [
      "<?xml version='1.0' encoding='ASCII'?>\n",
      "<prov:document xmlns:ex=\"http://example.org/\" xmlns:ex1=\"http://example.org/1/\" xmlns:ex2=\"http://example.org/2/\" xmlns:foaf=\"http://xmlns.com/foaf/0.1/\" xmlns:orcid=\"http://orcid.org/\" xmlns:prov=\"http://www.w3.org/ns/prov#\" xmlns:rdf=\"http://www.w3.org/1999/02/22-rdf-syntax-ns#\" xmlns:rdfs=\"http://www.w3.org/2000/01/rdf-schema#\" xmlns:tmpl=\"http://openprovenance.org/tmpl#\" xmlns:var=\"http://openprovenance.org/var#\" xmlns:vargen=\"http://openprovenance.org/vargen#\" xmlns:xsd=\"http://www.w3.org/2001/XMLSchema\" xmlns:xsi=\"http://www.w3.org/2001/XMLSchema-instance\">\n",
      "  <prov:bundleContent prov:id=\"vargen:bundleid\">\n",
      "    <prov:entity prov:id=\"var:quote\">\n",
      "      <prov:value xsi:type=\"xsd:string\">var:value</prov:value>\n",
      "    </prov:entity>\n",
      "    <prov:entity prov:id=\"var:author\">\n",
      "      <prov:type>prov:Person</prov:type>\n",
      "      <foaf:name>var:name</foaf:name>\n",
      "    </prov:entity>\n",
      "    <prov:wasAttributedTo>\n",
      "      <prov:entity prov:ref=\"var:quote\"/>\n",
      "      <prov:agent prov:ref=\"var:author\"/>\n",
      "    </prov:wasAttributedTo>\n",
      "  </prov:bundleContent>\n",
      "</prov:document>\n",
      "\n"
     ]
    }
   ],
   "source": [
    "print(doc1.serialize(format='xml'))"
   ]
  },
  {
   "cell_type": "markdown",
   "metadata": {},
   "source": [
    "## Instantiate prov template\n",
    "\n",
    "the instantiation is done via the provconf.instantate_template function\n",
    "\n",
    "for comparison the template file as well as the instance are printed"
   ]
  },
  {
   "cell_type": "code",
   "execution_count": 4,
   "metadata": {},
   "outputs": [
    {
     "name": "stdout",
     "output_type": "stream",
     "text": [
      "No Match:  prov:value\n",
      "Match:  var:value\n",
      "Attr dict: {'prov:value': 'A Little Provenance Goes a Long Way'}\n",
      "Match:  var:quote\n",
      "No Match:  prov:type\n",
      "No Match:  prov:Person\n",
      "Attr dict: {'prov:type': 'prov:Person'}\n",
      "No Match:  foaf:name\n",
      "Match:  var:name\n",
      "Attr dict: {'prov:type': 'prov:Person', 'foaf:name': 'Luc Moreau'}\n",
      "Match:  var:author\n",
      "Match:  var:quote\n",
      "Match:  var:author\n",
      "wasAttributedTo(ex:quote1, orcid:0000-0002-3494-120X)\n",
      "document\n",
      "  prefix var <http://openprovenance.org/var#>\n",
      "  prefix vargen <http://openprovenance.org/vargen#>\n",
      "  prefix tmpl <http://openprovenance.org/tmpl#>\n",
      "  prefix foaf <http://xmlns.com/foaf/0.1/>\n",
      "  prefix ex <http://example.org/>\n",
      "  prefix orcid <http://orcid.org/>\n",
      "  prefix rdf <http://www.w3.org/1999/02/22-rdf-syntax-ns#>\n",
      "  prefix rdfs <http://www.w3.org/2000/01/rdf-schema#>\n",
      "  prefix ex1 <http://example.org/1/>\n",
      "  prefix ex2 <http://example.org/2/>\n",
      "  \n",
      "  bundle vargen:bundleid\n",
      "    entity(var:quote, [prov:value=\"var:value\"])\n",
      "    entity(var:author, [prov:type=\"prov:Person\", foaf:name=\"var:name\"])\n",
      "    wasAttributedTo(var:quote, var:author)\n",
      "  endBundle\n",
      "endDocument\n",
      "document\n",
      "  prefix vargen <http://openprovenance.org/vargen#>\n",
      "  prefix orcid <http://orcid.org/>\n",
      "  prefix rdfs <http://www.w3.org/2000/01/rdf-schema#>\n",
      "  prefix ex1 <http://example.org/1/>\n",
      "  prefix ex2 <http://example.org/2/>\n",
      "  prefix var <http://openprovenance.org/var#>\n",
      "  prefix tmpl <http://openprovenance.org/tmpl#>\n",
      "  prefix ex <http://example.org/>\n",
      "  prefix rdf <http://www.w3.org/1999/02/22-rdf-syntax-ns#>\n",
      "  prefix foaf <http://xmlns.com/foaf/0.1/>\n",
      "  \n",
      "  bundle vargen:bundleid\n",
      "    entity(ex:quote1, [prov:value=\"A Little Provenance Goes a Long Way\"])\n",
      "    entity(orcid:0000-0002-3494-120X, [prov:type=\"prov:Person\", foaf:name=\"Luc Moreau\"])\n",
      "    wasAttributedTo(ex:quote1, orcid:0000-0002-3494-120X)\n",
      "  endBundle\n",
      "endDocument\n"
     ]
    }
   ],
   "source": [
    "new = provconv.instantiate_template(doc1,instance_dict)\n",
    "print(doc1.get_provn())\n",
    "print(new.get_provn())"
   ]
  },
  {
   "cell_type": "code",
   "execution_count": 4,
   "metadata": {},
   "outputs": [
    {
     "data": {
      "image/png": "[encoded data removed]",
      "text/plain": [
       "<matplotlib.figure.Figure at 0x7f701cd839e8>"
      ]
     },
     "metadata": {},
     "output_type": "display_data"
    },
    {
     "data": {
      "image/png": "[encoded data removed]",
      "text/plain": [
       "<matplotlib.figure.Figure at 0x7f701cd73748>"
      ]
     },
     "metadata": {},
     "output_type": "display_data"
    }
   ],
   "source": [
    "%matplotlib  inline\n",
    "doc1.plot()\n",
    "new.plot()"
   ]
  },
  {
   "cell_type": "markdown",
   "metadata": {},
   "source": [
    "## Compare with original ProvToolbox example: "
   ]
  },
  {
   "cell_type": "code",
   "execution_count": null,
   "metadata": {},
   "outputs": [],
   "source": [
    "# %load Downloads/ProvToolbox-Tutorial4-0.7.0/src/main/resources/template1.provn\n",
    "\n",
    "document\n",
    "\n",
    "  prefix var <http://openprovenance.org/var#>\n",
    "  prefix vargen <http://openprovenance.org/vargen#>\n",
    "  prefix tmpl <http://openprovenance.org/tmpl#>\n",
    "\n",
    "  prefix foaf <http://xmlns.com/foaf/0.1/>\n",
    "  \n",
    "  bundle vargen:bundleId\n",
    "    entity(var:quote, [prov:value='var:value'])\n",
    "    entity(var:author, [prov:type='prov:Person', foaf:name='var:name'])\n",
    "    wasAttributedTo(var:quote,var:author)\n",
    "  endBundle\n",
    "\n",
    "endDocument\n"
   ]
  },
  {
   "cell_type": "code",
   "execution_count": null,
   "metadata": {},
   "outputs": [],
   "source": [
    "# take same instantiation as in the tutorial:\n",
    "# %load Downloads/ProvToolbox-Tutorial4-0.7.0/src/main/resources/binding1.ttl\n",
    "@prefix prov: <http://www.w3.org/ns/prov#> .\n",
    "@prefix xsd: <http://www.w3.org/2001/XMLSchema#> .\n",
    "@prefix tmpl: <http://openprovenance.org/tmpl#> .\n",
    "@prefix var: <http://openprovenance.org/var#> .\n",
    "@prefix ex: <http://example.com/#> .\n",
    "\n",
    "var:author a prov:Entity;\n",
    "           tmpl:value_0 <http://orcid.org/0000-0002-3494-120X>.\n",
    "var:name   a prov:Entity;\n",
    "           tmpl:2dvalue_0_0 \"Luc Moreau\".\n",
    "var:quote  a prov:Entity;\n",
    "           tmpl:value_0 ex:quote1.\n",
    "var:value  a prov:Entity;\n",
    "           tmpl:2dvalue_0_0 \"A Little Provenance Goes a Long Way\".\n",
    "\n"
   ]
  },
  {
   "cell_type": "markdown",
   "metadata": {},
   "source": [
    "## Instantiate PROV template using provconvert and compare results\n",
    "\n",
    "the python prov implementation does not support deserialization form provn and ttl -\n",
    "thus converting to xml or rdf is necessary .."
   ]
  },
  {
   "cell_type": "code",
   "execution_count": null,
   "metadata": {},
   "outputs": [],
   "source": [
    "!provconvert -infile test/template1.provn -bindings test/binding1.ttl -outfile test/doc1.provn"
   ]
  },
  {
   "cell_type": "code",
   "execution_count": 11,
   "metadata": {},
   "outputs": [],
   "source": [
    "!provconvert -infile test/template1.provn -outfile test/template1.xml"
   ]
  },
  {
   "cell_type": "code",
   "execution_count": 21,
   "metadata": {},
   "outputs": [],
   "source": [
    "!provconvert -infile test/binding1.ttl -outfile test/binding1.xml"
   ]
  },
  {
   "cell_type": "code",
   "execution_count": 16,
   "metadata": {},
   "outputs": [],
   "source": [
    "!provconvert -infile test/doc1.provn -outfile test/doc1.xml"
   ]
  },
  {
   "cell_type": "code",
   "execution_count": 17,
   "metadata": {},
   "outputs": [],
   "source": [
    "!provconvert -infile test/template1.provn  -outfile test/template1.rdf"
   ]
  },
  {
   "cell_type": "code",
   "execution_count": 18,
   "metadata": {},
   "outputs": [],
   "source": [
    "!provconvert -infile test/doc1.provn -outfile test/doc1.rdf"
   ]
  },
  {
   "cell_type": "code",
   "execution_count": 44,
   "metadata": {},
   "outputs": [
    {
     "name": "stdout",
     "output_type": "stream",
     "text": [
      "document\n",
      "  prefix vargen <http://openprovenance.org/vargen#>\n",
      "  \n",
      "  bundle vargen:bundleId\n",
      "    prefix var <http://openprovenance.org/var#>\n",
      "    prefix foaf <http://xmlns.com/foaf/0.1/>\n",
      "    \n",
      "    entity(var:quote, [prov:value='var:value'])\n",
      "    entity(var:author, [prov:type='prov:Person', foaf:name='var:name'])\n",
      "    wasAttributedTo(var:quote, var:author)\n",
      "  endBundle\n",
      "endDocument\n",
      "document\n",
      "  prefix var <http://openprovenance.org/var#>\n",
      "  prefix tmpl <http://openprovenance.org/tmpl#>\n",
      "  prefix pre_0 <http://orcid.org/>\n",
      "  prefix ex <http://example.com/#>\n",
      "  \n",
      "  entity(var:author, [tmpl:value__0='pre_0:_0000-0002-3494-120X'])\n",
      "  entity(var:quote, [tmpl:value__0='ex:quote1'])\n",
      "  entity(var:value, [tmpl:_2dvalue__0__0=\"A Little Provenance Goes a Long Way\"])\n",
      "  entity(var:name, [tmpl:_2dvalue__0__0=\"Luc Moreau\"])\n",
      "endDocument\n",
      "document\n",
      "  prefix uuid <urn:uuid:>\n",
      "  \n",
      "  bundle uuid:b07bc92f-f16a-443c-9e0a-3bda4063fc10\n",
      "    prefix ex <http://example.com/#>\n",
      "    prefix pre_0 <http://orcid.org/>\n",
      "    prefix foaf <http://xmlns.com/foaf/0.1/>\n",
      "    \n",
      "    entity(ex:quote1, [prov:value=\"A Little Provenance Goes a Long Way\"])\n",
      "    entity(pre_0:_0000-0002-3494-120X, [prov:type='prov:Person', foaf:name=\"Luc Moreau\"])\n",
      "    wasAttributedTo(ex:quote1, pre_0:_0000-0002-3494-120X)\n",
      "  endBundle\n",
      "endDocument\n",
      "@prefix ex: <http://example.com/#> .\n",
      "@prefix foaf: <http://xmlns.com/foaf/0.1/> .\n",
      "@prefix ns1: <urn:uuid:> .\n",
      "@prefix pre_0: <http://orcid.org/> .\n",
      "@prefix prov: <http://www.w3.org/ns/prov#> .\n",
      "@prefix rdf: <http://www.w3.org/1999/02/22-rdf-syntax-ns#> .\n",
      "@prefix rdfs: <http://www.w3.org/2000/01/rdf-schema#> .\n",
      "@prefix uuid: <urn:uuid:> .\n",
      "@prefix xml: <http://www.w3.org/XML/1998/namespace> .\n",
      "@prefix xsd: <http://www.w3.org/2001/XMLSchema#> .\n",
      "\n",
      "ns1:b07bc92f-f16a-443c-9e0a-3bda4063fc10 {\n",
      "    ex:quote1 a prov:Entity ;\n",
      "        prov:value \"A Little Provenance Goes a Long Way\"^^xsd:string ;\n",
      "        prov:wasAttributedTo pre_0:_0000-0002-3494-120X .\n",
      "\n",
      "    pre_0:_0000-0002-3494-120X a prov:Entity,\n",
      "            prov:Person ;\n",
      "        foaf:name \"Luc Moreau\"^^xsd:string .\n",
      "}\n",
      "\n",
      "\n"
     ]
    }
   ],
   "source": [
    "# import template and generated provn representation in python\n",
    "with open('test/template1.xml') as in_file:\n",
    "    prov_d = prov.ProvDocument()\n",
    "    prov_d = prov_d.deserialize(source=in_file,format='xml')\n",
    "    \n",
    "with open('test/binding1.xml') as in_file:\n",
    "    prov_t = prov.ProvDocument()\n",
    "    prov_t = prov_d.deserialize(source=in_file,format='xml')    \n",
    "\n",
    "\n",
    "with open('test/doc1.xml') as in_file:\n",
    "    prov_i = prov.ProvDocument()\n",
    "    prov_i = prov_d.deserialize(source=in_file,format='xml')\n",
    "    \n",
    "print(prov_d.get_provn()) \n",
    "print(prov_t.get_provn())\n",
    "print(prov_i.get_provn())\n",
    "\n",
    "print(prov_i.serialize(format='rdf'))"
   ]
  },
  {
   "cell_type": "code",
   "execution_count": null,
   "metadata": {},
   "outputs": [],
   "source": [
    "# %load test/doc1.provn\n",
    "document\n",
    "bundle uuid:672b425e-a7db-470f-8653-7318d9ae8ec1\n",
    "prefix foaf <http://xmlns.com/foaf/0.1/>\n",
    "prefix pre_0 <http://orcid.org/>\n",
    "prefix ex <http://example.com/#>\n",
    "prefix uuid <urn:uuid:>\n",
    "\n",
    "entity(ex:quote1,[prov:value = \"A Little Provenance Goes a Long Way\" %% xsd:string])\n",
    "entity(pre_0:0000-0002-3494-120X,[prov:type = 'prov:Person', foaf:name = \"Luc Moreau\" %% xsd:string])\n",
    "wasAttributedTo(ex:quote1, pre_0:0000-0002-3494-120X)\n",
    "endBundle\n",
    "endDocument\n"
   ]
  },
  {
   "cell_type": "code",
   "execution_count": null,
   "metadata": {},
   "outputs": [],
   "source": [
    "!provconvert -infile test/doc1.provn -outfile test/doc1.png\n"
   ]
  },
  {
   "cell_type": "code",
   "execution_count": null,
   "metadata": {},
   "outputs": [],
   "source": [
    "!provconvert -infile test/template1.provn -outfile test/template1.png"
   ]
  },
  {
   "cell_type": "code",
   "execution_count": null,
   "metadata": {},
   "outputs": [],
   "source": [
    "# %load Downloads/ProvToolbox-Tutorial4-0.7.0/target/doc1.provn\n",
    "document\n",
    "bundle uuid:4c7236d5-6420-4a88-b192-6089e27aa88e\n",
    "prefix foaf <http://xmlns.com/foaf/0.1/>\n",
    "prefix pre_0 <http://orcid.org/>\n",
    "prefix ex <http://example.com/#>\n",
    "prefix uuid <urn:uuid:>\n",
    "\n",
    "entity(ex:quote1,[prov:value = \"A Little Provenance Goes a Long Way\" %% xsd:string])\n",
    "entity(pre_0:0000-0002-3494-120X,[prov:type = 'prov:Person', foaf:name = \"Luc Moreau\" %% xsd:string])\n",
    "wasAttributedTo(ex:quote1, pre_0:0000-0002-3494-120X)\n",
    "endBundle\n",
    "endDocument\n"
   ]
  },
  {
   "cell_type": "markdown",
   "metadata": {},
   "source": [
    "# Show provconvert result to compare\n",
    "\n",
    "![in](./test/doc1.png)\n",
    "![out](./test/doc2.png)"
   ]
  }
 ],
 "metadata": {
  "kernelspec": {
   "display_name": "Python 3",
   "language": "python",
   "name": "python3"
  },
  "language_info": {
   "codemirror_mode": {
    "name": "ipython",
    "version": 3
   },
   "file_extension": ".py",
   "mimetype": "text/x-python",
   "name": "python",
   "nbconvert_exporter": "python",
   "pygments_lexer": "ipython3",
   "version": "3.6.4"
  }
 },
 "nbformat": 4,
 "nbformat_minor": 2
}
