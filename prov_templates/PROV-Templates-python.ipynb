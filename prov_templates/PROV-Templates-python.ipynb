{
 "cells": [
  {
   "cell_type": "markdown",
   "metadata": {},
   "source": [
    "# PROV Templates in Python\n",
    "\n",
    "     Author: Stephan Kindermann\n",
    "     Affiliation: DKRZ\n",
    "     Community: ENES (Earth System Sciences)\n",
    "     Version: 0.2 (July 2018)\n",
    "    \n",
    "**Motivation:**\n",
    "* The adoption of PROV templates in ENES community workflows is hindered by the following aspects:\n",
    "\n",
    "    * template generation in ENES oftenly needs to be tool based (template structure depends on project/experiment configuration) \n",
    "    * template instanciation in ENES oftenly is done in a scripting environment (most oftenly using python)\n",
    "    * template expansion currently is only supported by the **provconvert** java tool\n",
    "    * the transition from Java/provconvert to Python/prov is not fully supported (no import of provconvert output in prov supported) \n",
    "   \n",
    "* The sharing PROV adoption narratives is well supported by using jupyter notebooks and python.\n",
    "* Core infrastructure services in ENES are implemented using python. \n",
    "\n",
    "Therfore: \n",
    "* The java based **provconvert** tool thus is difficult to exploit in ENES use cases\n",
    "* Using prov templates is by now only usefull for \"documentation\" purposes - no impact on community approaches. \n",
    "* To have an impact on community approaches in the short term simple python based wrappers are needed which can be integrated in our community workflows.  \n",
    "\n",
    "**Approach taken**\n",
    "A simple template instantiation package (called provtemplates) was implemented supporting the instantiation of prov templates in python.  \n",
    "This approach on the one hand side allows to generate and use PROV templates in python and which on the other hand side allows for pure python based template instantiations.\n",
    "\n",
    "Drawback (by now) is that the elaborated prov expansion algorithm is not yet implemented fully. But expansion rules can implemented easyly explicitely in python when needed (and later integrated into the python package). To make the expansion explicit on the basis of python can also seen as an advantage as the community PROV adopters don't need to dig into the expansion algorithm implemented as part of provconvert (and eventual errors therein).\n",
    "\n",
    "The approach taken is illustrated in the following:   \n",
    "* PROV templates (being standard PROV documents) are generated in Python based on the prov library alongside PROV template instances.\n",
    "* A very simple instantiation algorithm is used to instantiate templates based on dictionaries containing the variable settings .. this instantiation algorithm can be stepwise expanded in the future\n"
   ]
  },
  {
   "cell_type": "markdown",
   "metadata": {},
   "source": [
    "## Generate a PROV template\n",
    "PROV templates are generated in functions with all RROV variables as parameters.\n",
    "This function is called with prov template variable names to generate prov templates. When called with instances the result is an prov document corresponding to the instantiated prov template.\n",
    "\n",
    "In the following the approach is illustrated based on a concrete examplec (corresponding to the first example in the provconvert tutorial). \n",
    "\n",
    "### Initialize empty PROV template with namespaces needed"
   ]
  },
  {
   "cell_type": "code",
   "execution_count": null,
   "metadata": {},
   "outputs": [],
   "source": [
    "# Define namespaces used and generate a new empty \n",
    "# python prov template instance\n",
    "# Define the variable settings in the template as a dictionary\n",
    "\n",
    "from provtemplates import provconv\n",
    "import prov.model as prov\n",
    "import six\n",
    "import itertools\n",
    "\n",
    "\n",
    "ns_dict = {\n",
    "    'prov':'http://www.w3.org/ns/prov#',\n",
    "    'var':'http://openprovenance.org/var#>',\n",
    "    'vargen':'http://openprovenance.org/vargen#',\n",
    "    'tmpl':'http://openprovenance.org/tmpl#',\n",
    "    'foaf':'http://xmlns.com/foaf/0.1/',\n",
    "    'ex': 'http://example.org/',\n",
    "    'orcid':'http://orcid.org/',\n",
    "\n",
    "    #document.set_default_namespace('http://example.org/0/')\n",
    "    'rdf':'http://www.w3.org/1999/02/22-rdf-syntax-ns#',\n",
    "    'rdfs':'http://www.w3.org/2000/01/rdf-schema#',\n",
    "    'xsd':'http://www.w3.org/2001/XMLSchema#',\n",
    "    'ex1': 'http://example.org/1/',\n",
    "    'ex2': 'http://example.org/2/'\n",
    "}\n",
    "\n",
    "\n",
    "instance_dict = {\n",
    "    'var:author':'orcid:0000-0002-3494-120X',\n",
    "    'var:value':'A Little Provenance Goes a Long Way',\n",
    "    'var:name':'Luc Moreau',\n",
    "    'var:quote':'ex:quote1'\n",
    "}\n",
    "\n",
    "doc0 = provconv.set_namespaces(ns_dict,prov.ProvDocument())\n"
   ]
  },
  {
   "cell_type": "markdown",
   "metadata": {},
   "source": [
    "### Generate an example prov template and print (and store) it's provn representation"
   ]
  },
  {
   "cell_type": "code",
   "execution_count": null,
   "metadata": {},
   "outputs": [],
   "source": [
    "doc1 = provconv.save_and_show(doc0,'/home/stephan/test/xxxx.provn')"
   ]
  },
  {
   "cell_type": "markdown",
   "metadata": {},
   "source": [
    "## Instantiate prov template\n",
    "\n",
    "the instantiation is done via the provconf.instantate_template function\n",
    "\n",
    "for comparison the template file as well as the instance are printed"
   ]
  },
  {
   "cell_type": "code",
   "execution_count": null,
   "metadata": {},
   "outputs": [],
   "source": [
    "new = provconv.instantiate_template(doc1,instance_dict)\n",
    "print(doc1.get_provn())\n",
    "print(new.get_provn())"
   ]
  },
  {
   "cell_type": "code",
   "execution_count": null,
   "metadata": {},
   "outputs": [],
   "source": [
    "%matplotlib  inline\n",
    "doc1.plot()\n",
    "new.plot()"
   ]
  },
  {
   "cell_type": "markdown",
   "metadata": {},
   "source": [
    "## Compare with original ProvToolbox example: "
   ]
  },
  {
   "cell_type": "code",
   "execution_count": null,
   "metadata": {},
   "outputs": [],
   "source": [
    "# %load Downloads/ProvToolbox-Tutorial4-0.7.0/src/main/resources/template1.provn\n",
    "\n",
    "document\n",
    "\n",
    "  prefix var <http://openprovenance.org/var#>\n",
    "  prefix vargen <http://openprovenance.org/vargen#>\n",
    "  prefix tmpl <http://openprovenance.org/tmpl#>\n",
    "\n",
    "  prefix foaf <http://xmlns.com/foaf/0.1/>\n",
    "  \n",
    "  bundle vargen:bundleId\n",
    "    entity(var:quote, [prov:value='var:value'])\n",
    "    entity(var:author, [prov:type='prov:Person', foaf:name='var:name'])\n",
    "    wasAttributedTo(var:quote,var:author)\n",
    "  endBundle\n",
    "\n",
    "endDocument\n"
   ]
  },
  {
   "cell_type": "code",
   "execution_count": null,
   "metadata": {},
   "outputs": [],
   "source": [
    "# take same instantiation as in the tutorial:\n",
    "# %load Downloads/ProvToolbox-Tutorial4-0.7.0/src/main/resources/binding1.ttl\n",
    "@prefix prov: <http://www.w3.org/ns/prov#> .\n",
    "@prefix xsd: <http://www.w3.org/2001/XMLSchema#> .\n",
    "@prefix tmpl: <http://openprovenance.org/tmpl#> .\n",
    "@prefix var: <http://openprovenance.org/var#> .\n",
    "@prefix ex: <http://example.com/#> .\n",
    "\n",
    "var:author a prov:Entity;\n",
    "           tmpl:value_0 <http://orcid.org/0000-0002-3494-120X>.\n",
    "var:name   a prov:Entity;\n",
    "           tmpl:2dvalue_0_0 \"Luc Moreau\".\n",
    "var:quote  a prov:Entity;\n",
    "           tmpl:value_0 ex:quote1.\n",
    "var:value  a prov:Entity;\n",
    "           tmpl:2dvalue_0_0 \"A Little Provenance Goes a Long Way\".\n",
    "\n"
   ]
  },
  {
   "cell_type": "markdown",
   "metadata": {},
   "source": [
    "## Instantiate PROV template using provconvert and compare results"
   ]
  },
  {
   "cell_type": "code",
   "execution_count": null,
   "metadata": {},
   "outputs": [],
   "source": [
    "!provconvert -infile test/template1.provn -bindings test/binding1.ttl -outfile test/doc1.provn"
   ]
  },
  {
   "cell_type": "code",
   "execution_count": null,
   "metadata": {},
   "outputs": [],
   "source": [
    "# %load test/doc1.provn\n",
    "document\n",
    "bundle uuid:672b425e-a7db-470f-8653-7318d9ae8ec1\n",
    "prefix foaf <http://xmlns.com/foaf/0.1/>\n",
    "prefix pre_0 <http://orcid.org/>\n",
    "prefix ex <http://example.com/#>\n",
    "prefix uuid <urn:uuid:>\n",
    "\n",
    "entity(ex:quote1,[prov:value = \"A Little Provenance Goes a Long Way\" %% xsd:string])\n",
    "entity(pre_0:0000-0002-3494-120X,[prov:type = 'prov:Person', foaf:name = \"Luc Moreau\" %% xsd:string])\n",
    "wasAttributedTo(ex:quote1, pre_0:0000-0002-3494-120X)\n",
    "endBundle\n",
    "endDocument\n"
   ]
  },
  {
   "cell_type": "code",
   "execution_count": null,
   "metadata": {},
   "outputs": [],
   "source": [
    "!provconvert -infile test/doc1.provn -outfile test/doc1.png\n"
   ]
  },
  {
   "cell_type": "code",
   "execution_count": null,
   "metadata": {},
   "outputs": [],
   "source": [
    "!provconvert -infile test/template1.provn -outfile test/template1.png"
   ]
  },
  {
   "cell_type": "code",
   "execution_count": null,
   "metadata": {},
   "outputs": [],
   "source": [
    "# %load Downloads/ProvToolbox-Tutorial4-0.7.0/target/doc1.provn\n",
    "document\n",
    "bundle uuid:4c7236d5-6420-4a88-b192-6089e27aa88e\n",
    "prefix foaf <http://xmlns.com/foaf/0.1/>\n",
    "prefix pre_0 <http://orcid.org/>\n",
    "prefix ex <http://example.com/#>\n",
    "prefix uuid <urn:uuid:>\n",
    "\n",
    "entity(ex:quote1,[prov:value = \"A Little Provenance Goes a Long Way\" %% xsd:string])\n",
    "entity(pre_0:0000-0002-3494-120X,[prov:type = 'prov:Person', foaf:name = \"Luc Moreau\" %% xsd:string])\n",
    "wasAttributedTo(ex:quote1, pre_0:0000-0002-3494-120X)\n",
    "endBundle\n",
    "endDocument\n"
   ]
  },
  {
   "cell_type": "markdown",
   "metadata": {},
   "source": [
    "# Show provconvert result to compare\n",
    "\n",
    "![in](./test/doc1.png)\n",
    "![out](./test/doc2.png)"
   ]
  }
 ],
 "metadata": {
  "kernelspec": {
   "display_name": "Python 3",
   "language": "python",
   "name": "python3"
  },
  "language_info": {
   "codemirror_mode": {
    "name": "ipython",
    "version": 3
   },
   "file_extension": ".py",
   "mimetype": "text/x-python",
   "name": "python",
   "nbconvert_exporter": "python",
   "pygments_lexer": "ipython3",
   "version": "3.6.4"
  }
 },
 "nbformat": 4,
 "nbformat_minor": 2
}
