{
 "cells": [
  {
   "cell_type": "markdown",
   "metadata": {
    "collapsed": false
   },
   "source": [
    "# Prov API for recording and managing provenance information\n",
    "\n",
    "*Purpose*\n",
    "- to be used by communities and EUDAT infrastructure tools to record prov info\n",
    "- prototype work to evaluate neo4j backend for this pupose\n",
    "- provide concrete implementation to evaluate and test different use cases\n",
    "- act as an early prototype to specify and develop a future provenance API to be  used in future infra-projects and which can be discussed in current projects like ENVRI+ and EUDAT"
   ]
  },
  {
   "cell_type": "markdown",
   "metadata": {
    "collapsed": true
   },
   "source": [
    "### References\n",
    "\n",
    "* IPAPI (some generic ideas, no concrete implementation) https://www.cl.cam.ac.uk/research/dtg/fresco/tapp13-ipapi.pdf \n",
    "* PROV-AQ: Provenance Access and Query (https://www.w3.org/TR/prov-aq/) W3C document\n",
    "* Provenanct tracking article http://rrcns.readthedocs.io/en/latest/provenance_tracking.html\n",
    "* ProvOne extension: http://vcvcomputing.com/provone/provone.html\n",
    "* Provenance for metadata preservation: http://dcpapers.dublincore.org/pubs/article/viewFile/3709/1932\n",
    "* PROV-man: A PROV-compliant toolkit for provenance management: https://peerj.com/preprints/1102.pdf\n",
    "* Recent book: \"Provenance and Annotation of Data and Processes\",http://link.springer.com/book/10.1007%2F978-3-319-40593-3 \n",
    "* A Framework for Collecting Provenance in Data-Centric Scientific Workflows: http://www.cs.indiana.edu/dde/papers/ysimmhan_www2006_v06a.pdf"
   ]
  },
  {
   "cell_type": "markdown",
   "metadata": {},
   "source": [
    "## Components\n",
    "\n",
    "* provio library to generate neo4j graph from w3c prov documents in json (or xml)\n",
    "* example python API to generate, update, modify provenance graphs\n",
    "* example prov sources: log files (+ wrapper to call API), example clients\n",
    "* (optional: ProvStore free service to store provenance documents https://provenance.ecs.soton.ac.uk/store/ )"
   ]
  },
  {
   "cell_type": "markdown",
   "metadata": {},
   "source": [
    "### Initial use cases\n",
    "\n",
    "initial use cases are centered around application scenarios coming from geo-sciences especially the ENES climate community. Generic geo-science infrastructure related topics will be discussed in the context of the ENVRI+ project. Results will be used to discuss future EUDAT GEF provenance handling aspects. Concrete use cases:\n",
    "- ENES community: log file of climate data evaluation workflow --> neo4j graph\n",
    "- ENES community: provenance capture as part of web processing workflow execution\n",
    "- EUDAT: provenance capture as part of GEF processing workflow \n",
    "    (as no real GEF implementation is availabe the ENES OGC WPS\n",
    "     implementation of the previous use case acts as a prototype)"
   ]
  },
  {
   "cell_type": "code",
   "execution_count": null,
   "metadata": {
    "collapsed": true
   },
   "outputs": [],
   "source": []
  }
 ],
 "metadata": {
  "kernelspec": {
   "display_name": "Python 2",
   "language": "python",
   "name": "python2"
  },
  "language_info": {
   "codemirror_mode": {
    "name": "ipython",
    "version": 2
   },
   "file_extension": ".py",
   "mimetype": "text/x-python",
   "name": "python",
   "nbconvert_exporter": "python",
   "pygments_lexer": "ipython2",
   "version": "2.7.11"
  }
 },
 "nbformat": 4,
 "nbformat_minor": 0
}
