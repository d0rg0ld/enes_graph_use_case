{
 "cells": [
  {
   "cell_type": "markdown",
   "metadata": {},
   "source": [
    "# Simple notebook to explore EUDAT B2Find harvested metadata for ENES\n",
    "\n",
    "Background: \n",
    "* EUDAT B2Find harvested ENES metadata consists of metadata for coarse grained data collections\n",
    "* These coarse grained collections are assigned DOIs\n",
    "* Metadata for ENES data harvested into the graph database from the ESGF federation is at file level and these files are then related to the collection levels they belong to\n",
    "* To relate ENES EUDAT B2Find metadata to ENES ESGF metadata in the graph database some implicit domain knowledge is necessary\n",
    "* This notebook illustrates this relation between ENES B2Find and ENES ESGF metadata for their integration in the neo4j database\n",
    "\n",
    "Integration aspects:\n",
    "* ENES ESGF metadata sometimes refers to newer versions of data entities\n",
    "* ENES B2Find metadata refers to data collections which are assigned DOIs whereas ESGF metadata refers to data entities (individual files) which are assigned to unique IDs (and soon PIDs)"
   ]
  },
  {
   "cell_type": "markdown",
   "metadata": {},
   "source": [
    "### Set up ckan client connection to EUDAT b2find service"
   ]
  },
  {
   "cell_type": "code",
   "execution_count": 2,
   "metadata": {
    "collapsed": true
   },
   "outputs": [],
   "source": [
    "import ckanclient\n",
    "from pprint import pprint\n",
    "\n",
    "ckan = ckanclient.CkanClient('http://b2find.eudat.eu/api/3/')"
   ]
  },
  {
   "cell_type": "markdown",
   "metadata": {},
   "source": [
    "### Select ENES data subset in b2find harvested records"
   ]
  },
  {
   "cell_type": "code",
   "execution_count": 3,
   "metadata": {
    "collapsed": true
   },
   "outputs": [],
   "source": [
    "# restrict to few (2) results for the purpose of this notebook\n",
    "q = 'tags:IPCC'\n",
    "d = ckan.action('package_search', q=q, rows=2)"
   ]
  },
  {
   "cell_type": "code",
   "execution_count": 19,
   "metadata": {
    "collapsed": false
   },
   "outputs": [
    {
     "name": "stdout",
     "output_type": "stream",
     "text": [
      "cmip5 output1 MIROC MIROC5 historical\n",
      "[u'cmip5', u'output1', u'MIROC', u'MIROC5', u'historical']\n",
      "http://dx.doi.org/doi:10.1594/WDCC/CMIP5.MIM5hi\n",
      "'historical' is an experiment of the CMIP5 - Coupled Model Intercomparison Project Phase 5\n",
      "(http://cmip-pcmdi.llnl.gov/cmip5/). CMIP5 is meant to provide a framework for coordinated\n",
      "climate change experiments for the next five years and thus includes simulations for\n",
      "assessment in the AR5 as well as others that extend beyond the AR5.\n",
      "\n",
      "3.2 historical (3.2 Historical) - Version 1: Simulation of recent past (1850 to 2005). Impose changing conditions (consistent with observations).\n",
      "\n",
      "Experiment design: http://cmip-pcmdi.llnl.gov/cmip5/docs/Taylor_CMIP5_design.pdf\n",
      "List of output variables: http://cmip-pcmdi.llnl.gov/cmip5/docs/standard_output.pdf\n",
      "Output: time series per variable in model grid spatial resolution in netCDF format\n",
      "Earth System model and the simulation information: CIM repository\n",
      "\n",
      "Entry name/title of data are specified according to the Data Reference Syntax\n",
      "(http://cmip-pcmdi.llnl.gov/cmip5/docs/cmip5_data_reference_syntax.pdf)\n",
      "as activity/product/institute/model/experiment/frequency/modeling realm/MIP table/ensemble\n",
      "member/version number/variable name/CMOR filename.nc.\n",
      "----------------------------------------------------------------\n",
      "cmip5 output1 MPI-M MPI-ESM-MR sstClim\n",
      "[u'cmip5', u'output1', u'MPI-M', u'MPI-ESM-MR', u'sstClim']\n",
      "http://dx.doi.org/doi:10.1594/WDCC/CMIP5.MXMRsc\n",
      "'sstClim' is an experiment of the CMIP5 - Coupled Model Intercomparison Project Phase 5\n",
      "(http://cmip-pcmdi.llnl.gov/cmip5/). CMIP5 is meant to provide a framework for coordinated\n",
      "climate change experiments for the next five years and thus includes simulations for\n",
      "assessment in the AR5 as well as others that extend beyond the AR5.\n",
      "\n",
      "6.2a sstClim (6.2a Control SST Climatology) - Version 1: AMIP-style experiment with control run climatological SSTs and sea ice.\n",
      "\n",
      "Experiment design: http://cmip-pcmdi.llnl.gov/cmip5/docs/Taylor_CMIP5_design.pdf\n",
      "List of output variables: http://cmip-pcmdi.llnl.gov/cmip5/docs/standard_output.pdf\n",
      "Output: time series per variable in model grid spatial resolution in netCDF format\n",
      "Earth System model and the simulation information: CIM repository\n",
      "\n",
      "Entry name/title of data are specified according to the Data Reference Syntax\n",
      "(http://cmip-pcmdi.llnl.gov/cmip5/docs/cmip5_data_reference_syntax.pdf)\n",
      "as activity/product/institute/model/experiment/frequency/modeling realm/MIP table/ensemble\n",
      "member/version number/variable name/CMOR filename.nc.\n",
      "----------------------------------------------------------------\n"
     ]
    }
   ],
   "source": [
    "# 'title' provides the aggregation info for the data collection\n",
    "# 'url' provides the doi of the data collection\n",
    "# 'notes' contains information on how to interpret the aggregation info string in 'title'\n",
    "\n",
    "for result in d['results']:\n",
    "    print result['title']\n",
    "    print result['title'].split()\n",
    "    print result['url']\n",
    "    print result['notes']\n",
    "    print \"----------------------------------------------------------------\"\n",
    "    #for part in result:\n",
    "    #    print part,\":-->\", result[part]"
   ]
  },
  {
   "cell_type": "markdown",
   "metadata": {},
   "source": [
    "### Hierarchy information for B2Find ENES data\n",
    "\n",
    "In the harvested B2Find metadata an indication is given how to derive the hierarchy information:\n",
    "\"Entry name/title of data are specified according to the Data Reference Syntax\n",
    "(http://cmip-pcmdi.llnl.gov/cmip5/docs/cmip5_data_reference_syntax.pdf)\n",
    "as activity/product/institute/model/experiment/frequency/modeling realm/MIP table/ensemble\n",
    "member/version number/variable name/CMOR filename.nc\""
   ]
  },
  {
   "cell_type": "code",
   "execution_count": 17,
   "metadata": {
    "collapsed": false
   },
   "outputs": [
    {
     "name": "stdout",
     "output_type": "stream",
     "text": [
      "{'institute': u'MIROC', 'product': u'output1', 'experiment': u'historical', 'model': u'MIROC5', 'activity': u'cmip5'}\n",
      "{'institute': u'MPI-M', 'product': u'output1', 'experiment': u'sstClim', 'model': u'MPI-ESM-MR', 'activity': u'cmip5'}\n"
     ]
    }
   ],
   "source": [
    "# collection pattern (neo4j nodes for pattern parts)\n",
    "# <activity>/<product>/<institute>/<model>/<experiment>/<frequency>/ \n",
    "# <modeling realm>/<mip table>/<ensemble member>/\n",
    "# <version number>/<variable name>/<CMORfilename.nc>\n",
    "\n",
    "# example title:   cmip5    output1   LASG-CESS FGOALS-g2 historicalNat\n",
    "# collection info: activity product   institute model     experiment\n",
    "\n",
    "def parse_collection_info(info_string):\n",
    "    info_parts = info_string.split()\n",
    "    pattern = ['activity','product','institute','model','experiment']\n",
    "    result = dict(zip(pattern,info_parts))\n",
    "    return result\n",
    "\n",
    "for result in d['results']:\n",
    "    parsed_result = parse_collection_info(result['title'])\n",
    "    print parsed_result"
   ]
  },
  {
   "cell_type": "markdown",
   "metadata": {},
   "source": [
    "### Relation to Neo4j ESGF graph nodes\n",
    "\n",
    "The ESGF metadata harvesting and Neo4j graph generation is done in the script ENES-Neo4J-fill1.py\n",
    "Each component of the collection hierarchy is assiged to a node connected with the \"belongs_to\" relationship and each component has a property name \"name\" corresponding to the values extracted from the B2Find result recods (see above). Additionally each collection has a level attribute \n",
    "\n",
    "experiment(6) -- belongs_to --> model(7) -- belongs_to --> institute(8) -- belongs_to --> product(9) -- belongs_to --> activity(10)\n",
    "\n",
    "The B2Find metadata aggregates all collection levels below 6, thus the level 6 node has to be identified in the Neo4j ESGF graph and related to the corresponding B2Find information\n"
   ]
  },
  {
   "cell_type": "markdown",
   "metadata": {},
   "source": [
    "#### cypher queries to identify corresponding level 6 nodes in ESGF graph structure: "
   ]
  },
  {
   "cell_type": "code",
   "execution_count": null,
   "metadata": {
    "collapsed": true
   },
   "outputs": [],
   "source": [
    "Match (n1:Collection {name:%experiment})-[r:belongs_to]->(n2:Collection {name:%model})-[r:belongs_to]\n",
    "->(n3:Collection {name:%institute})-[r:belongs_to]->(n4:Collection {name:%product})-[r:belongs_to]\n",
    "->(n5:Collection {name:%activity})"
   ]
  }
 ],
 "metadata": {
  "kernelspec": {
   "display_name": "Python 2",
   "language": "python",
   "name": "python2"
  },
  "language_info": {
   "codemirror_mode": {
    "name": "ipython",
    "version": 2
   },
   "file_extension": ".py",
   "mimetype": "text/x-python",
   "name": "python",
   "nbconvert_exporter": "python",
   "pygments_lexer": "ipython2",
   "version": "2.7.10"
  }
 },
 "nbformat": 4,
 "nbformat_minor": 0
}
